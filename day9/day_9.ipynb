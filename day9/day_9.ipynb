{
 "cells": [
  {
   "cell_type": "markdown",
   "metadata": {},
   "source": [
    "# Day9 Assignment"
   ]
  },
  {
   "cell_type": "markdown",
   "metadata": {},
   "source": [
    "## Excercise:Level1"
   ]
  },
  {
   "cell_type": "code",
   "execution_count": 2,
   "metadata": {},
   "outputs": [
    {
     "name": "stdout",
     "output_type": "stream",
     "text": [
      "You have to wait for 3 more years before you drive.\n"
     ]
    }
   ],
   "source": [
    "#Get user input and give feedback\n",
    "age = int(input('Enter your age: '))\n",
    "if age >= 18:\n",
    "    print('You are old enough to drive.')\n",
    "else:\n",
    "    age = 18 - age\n",
    "    print('You have to wait for', age, 'more years before you drive.')"
   ]
  },
  {
   "cell_type": "code",
   "execution_count": 3,
   "metadata": {},
   "outputs": [
    {
     "name": "stdout",
     "output_type": "stream",
     "text": [
      "You are 5 years older than me.\n"
     ]
    }
   ],
   "source": [
    "#Compare the values of my_age and your_age using if … else\n",
    "my_age = int(input('Enter your age: '))\n",
    "your_age = int(input('Enter my age: '))\n",
    "\n",
    "if my_age == your_age:\n",
    "    print('We are of the same age.')\n",
    "elif your_age > my_age:\n",
    "    age_diff = your_age - my_age\n",
    "    if age_diff == 1:\n",
    "        print('I am', age_diff, 'year older than you.')\n",
    "    else:\n",
    "        print('I am', age_diff, 'years older than you.')\n",
    "else:\n",
    "    age_diff = my_age - your_age\n",
    "    if age_diff == 1:\n",
    "        print('You are', age_diff, 'year older than me.')\n",
    "    else:\n",
    "        print('You are', age_diff, 'years older than me.')"
   ]
  },
  {
   "cell_type": "code",
   "execution_count": 8,
   "metadata": {},
   "outputs": [
    {
     "name": "stdout",
     "output_type": "stream",
     "text": [
      "4 is greater than 3\n"
     ]
    }
   ],
   "source": [
    "#Get two numbers from the user using input prompt. If a is greater than b return a is greater than b, if a is less b return a is smaller than b, else a is equal to b.\n",
    "a = int(input('Enter number a: '))\n",
    "b = int(input('Enter number b: '))\n",
    "\n",
    "if a > b:\n",
    "    print(a ,'is greater than', b)\n",
    "elif a < b:\n",
    "    print(a ,'is smaller than ',b)\n",
    "else:\n",
    "    print(a ,'is equal to ', b)"
   ]
  },
  {
   "cell_type": "markdown",
   "metadata": {},
   "source": [
    "## Excercise:Level2"
   ]
  },
  {
   "cell_type": "code",
   "execution_count": 9,
   "metadata": {},
   "outputs": [
    {
     "name": "stdout",
     "output_type": "stream",
     "text": [
      "The student's grade is: C\n"
     ]
    }
   ],
   "source": [
    "#Write a code which gives grade to students according to theirs scores:\n",
    "score = int(input(\"Enter the student's score:\"))\n",
    "if score >= 80:\n",
    "    grade = 'A'\n",
    "elif score >= 70:\n",
    "    grade = 'B'\n",
    "elif score >= 60:\n",
    "    grade = 'C'\n",
    "elif score >= 50:\n",
    "    grade = 'D'\n",
    "else:\n",
    "    grade = 'F'\n",
    "print(\"The student's grade is:\", grade)"
   ]
  },
  {
   "cell_type": "code",
   "execution_count": 10,
   "metadata": {},
   "outputs": [
    {
     "name": "stdout",
     "output_type": "stream",
     "text": [
      "The season is Spring\n"
     ]
    }
   ],
   "source": [
    "#Check if the season is Autumn, Winter, Spring or Summer.\n",
    "month = input('Enter month (in lowercase): ').lower()\n",
    "\n",
    "if month in ('september', 'october', 'november'):\n",
    "    season = 'Autumn'\n",
    "elif month in ('december', 'january', 'february'):\n",
    "    season = 'Winter'\n",
    "elif month in ('march', 'april', 'may'):\n",
    "    season = 'Spring'\n",
    "elif month in ('june', 'july', 'august'):\n",
    "    season = 'Summer'\n",
    "else:\n",
    "    season = 'Unknown'\n",
    "\n",
    "print('The season is', season)"
   ]
  },
  {
   "cell_type": "code",
   "execution_count": 11,
   "metadata": {},
   "outputs": [
    {
     "name": "stdout",
     "output_type": "stream",
     "text": [
      "That fruit already exists in the list\n"
     ]
    }
   ],
   "source": [
    "#modify list\n",
    "fruits = ['banana', 'orange', 'mango', 'lemon']\n",
    "new_fruit = input('Enter a fruit:').lower()\n",
    "\n",
    "if new_fruit in fruits:\n",
    "    print('That fruit already exists in the list')\n",
    "else:\n",
    "    fruits.append(new_fruit)\n",
    "    print('The modified list is:', fruits)"
   ]
  },
  {
   "cell_type": "markdown",
   "metadata": {},
   "source": [
    "## Excercise: level 3"
   ]
  },
  {
   "cell_type": "code",
   "execution_count": 1,
   "metadata": {},
   "outputs": [],
   "source": [
    "#a person dictionary\n",
    "person = {'first_name': 'Amina', 'last_name': 'Abdulazeez', 'age': 29, 'country': 'Nigeria', 'is_marred': True, 'skills': ['JavaScript', 'Node', 'MongoDB', 'Python'], 'address':{\n",
    "        'street': 'Space street',\n",
    "        'zipcode': '82221'\n",
    "    }}"
   ]
  },
  {
   "cell_type": "code",
   "execution_count": 2,
   "metadata": {},
   "outputs": [
    {
     "name": "stdout",
     "output_type": "stream",
     "text": [
      "MongoDB\n"
     ]
    }
   ],
   "source": [
    "#Check if the person dictionary has skills key, if so print out the middle skill in the skills list.\n",
    "if 'skills' in person:\n",
    "  middle_index = len(person['skills']) // 2\n",
    "  print(person['skills'][middle_index])"
   ]
  },
  {
   "cell_type": "code",
   "execution_count": 4,
   "metadata": {},
   "outputs": [
    {
     "name": "stdout",
     "output_type": "stream",
     "text": [
      "The person has the 'Python' skill.\n"
     ]
    }
   ],
   "source": [
    "#Check if the person dictionary has skills key, if so check if the person has 'Python' skill and print out the result.\n",
    "if 'skills' in person:\n",
    "  if 'Python' in person['skills']:\n",
    "    print(\"The person has the 'Python' skill.\")\n",
    "  else:\n",
    "    print(\"The person does not have the 'Python' skill.\")\n",
    "else:\n",
    "  print(\"The person does not have a 'skills' key.\")"
   ]
  },
  {
   "cell_type": "code",
   "execution_count": 6,
   "metadata": {},
   "outputs": [
    {
     "name": "stdout",
     "output_type": "stream",
     "text": [
      "He is a backend developer\n"
     ]
    }
   ],
   "source": [
    "#If a person skills has only JavaScript and React, print('He is a front end developer'), if the person skills has Node, Python, MongoDB, print('He is a backend developer'), if the person skills has React, Node and MongoDB, Print('He is a fullstack developer'), else print('unknown title') - for more accurate results more conditions can be nested!\n",
    "if 'skills' in person:\n",
    "    skills = person['skills']\n",
    "    if 'JavaScript' in skills and 'React' in skills and len(skills) == 2:\n",
    "        print(\"He is a front end developer\")\n",
    "    elif 'Node' in skills and 'Python' in skills and 'MongoDB' in skills:\n",
    "        print(\"He is a backend developer\")\n",
    "    elif 'React' in skills and 'Node' in skills and 'MongoDB' in skills:\n",
    "        print(\"He is a fullstack developer\")\n",
    "    else:\n",
    "        print(\"Unknown title\")\n",
    "else:\n",
    "    print(\"The dictionary does not have a skills key\")"
   ]
  },
  {
   "cell_type": "code",
   "execution_count": 9,
   "metadata": {},
   "outputs": [
    {
     "name": "stdout",
     "output_type": "stream",
     "text": [
      "Person does not exist in dictionary\n"
     ]
    }
   ],
   "source": [
    "#If the person is married and if he lives in Finland, print the information in the following format:\n",
    "#Asabeneh Yetayeh lives in Finland. He is married.\n",
    "if person['is_marred'] and person['country'] == 'Finland':\n",
    "  print(f\"{person['first_name']} {person['last_name']} lives in {person['country']}. She is married.\")\n",
    "else:\n",
    "  print('Person does not exist in dictionary')"
   ]
  },
  {
   "cell_type": "markdown",
   "metadata": {},
   "source": []
  }
 ],
 "metadata": {
  "kernelspec": {
   "display_name": ".venv",
   "language": "python",
   "name": "python3"
  },
  "language_info": {
   "codemirror_mode": {
    "name": "ipython",
    "version": 3
   },
   "file_extension": ".py",
   "mimetype": "text/x-python",
   "name": "python",
   "nbconvert_exporter": "python",
   "pygments_lexer": "ipython3",
   "version": "3.11.3"
  }
 },
 "nbformat": 4,
 "nbformat_minor": 2
}
