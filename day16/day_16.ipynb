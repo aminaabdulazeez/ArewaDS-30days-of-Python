{
 "cells": [
  {
   "cell_type": "markdown",
   "metadata": {},
   "source": [
    "# Day16 Assignment"
   ]
  },
  {
   "cell_type": "markdown",
   "metadata": {},
   "source": [
    "## Excercises"
   ]
  },
  {
   "cell_type": "code",
   "execution_count": 2,
   "metadata": {},
   "outputs": [
    {
     "name": "stdout",
     "output_type": "stream",
     "text": [
      "Current Date: 20 / 12 / 2023\n",
      "Current Time: 12 : 15\n",
      "Timestamp: 1703070956.407722\n"
     ]
    }
   ],
   "source": [
    "#Get the current day, month, year, hour, minute and timestamp from datetime module\n",
    "from datetime import datetime\n",
    "\n",
    "current_datetime = datetime.now()\n",
    "\n",
    "current_day = current_datetime.day\n",
    "current_month = current_datetime.month\n",
    "current_year = current_datetime.year\n",
    "current_hour = current_datetime.hour\n",
    "current_minute = current_datetime.minute\n",
    "\n",
    "timestamp = current_datetime.timestamp()\n",
    "\n",
    "print(\"Current Date:\", current_day, \"/\", current_month, \"/\", current_year)\n",
    "print(\"Current Time:\", current_hour, \":\", current_minute)\n",
    "print(\"Timestamp:\", timestamp)"
   ]
  },
  {
   "cell_type": "code",
   "execution_count": 3,
   "metadata": {},
   "outputs": [
    {
     "name": "stdout",
     "output_type": "stream",
     "text": [
      "Formatted Date and Time: 12/20/2023, 12:17:29\n"
     ]
    }
   ],
   "source": [
    "#Format the current date using \"%m/%d/%Y, %H:%M:%S\")\n",
    "from datetime import datetime\n",
    "\n",
    "current_datetime = datetime.now()\n",
    "\n",
    "formatted_datetime = current_datetime.strftime(\"%m/%d/%Y, %H:%M:%S\")\n",
    "\n",
    "print(\"Formatted Date and Time:\", formatted_datetime)"
   ]
  },
  {
   "cell_type": "code",
   "execution_count": 14,
   "metadata": {},
   "outputs": [
    {
     "name": "stdout",
     "output_type": "stream",
     "text": [
      "Converted Datetime: 2019-12-05 00:00:00\n"
     ]
    }
   ],
   "source": [
    "#Change this time string to time\"Today is 5 December, 2019\"\n",
    "from datetime import datetime\n",
    "\n",
    "time_string = \"5 December, 2019\"\n",
    "\n",
    "datetime_object = datetime.strptime(time_string, \"%d %B, %Y\")\n",
    "\n",
    "print(\"Converted Datetime:\", datetime_object)"
   ]
  },
  {
   "cell_type": "code",
   "execution_count": 16,
   "metadata": {},
   "outputs": [
    {
     "name": "stdout",
     "output_type": "stream",
     "text": [
      "Time until New Year: 11 days, 11:24:40.136607\n"
     ]
    }
   ],
   "source": [
    "#Calculate the time difference between now and new year.\n",
    "from datetime import datetime, timedelta\n",
    "\n",
    "current_datetime = datetime.now()\n",
    "\n",
    "new_year = datetime(current_datetime.year + 1, 1, 1, 0, 0, 0)\n",
    "\n",
    "time_diff = new_year - current_datetime\n",
    "\n",
    "print(\"Time until New Year:\", time_diff)"
   ]
  },
  {
   "cell_type": "code",
   "execution_count": 18,
   "metadata": {},
   "outputs": [
    {
     "name": "stdout",
     "output_type": "stream",
     "text": [
      "Time between 1 January 1970 and now is: 19711 days, 12:35:33.662560\n"
     ]
    }
   ],
   "source": [
    "#Calculate time difference between 1 January 1970 and now.\n",
    "from datetime import datetime, timedelta\n",
    "\n",
    "epoch = datetime(1970, 1, 1, 0, 0, 0)\n",
    "\n",
    "current_datetime = datetime.now()\n",
    "\n",
    "time_diff = current_datetime - epoch\n",
    "\n",
    "print(\"Time between 1 January 1970 and now is:\", time_diff)"
   ]
  },
  {
   "cell_type": "markdown",
   "metadata": {},
   "source": [
    "### Think, what can you use the datetime module for? Examples"
   ]
  },
  {
   "cell_type": "markdown",
   "metadata": {},
   "source": [
    "#### Times Series Analysis: Managing timestamps in time series data requires the datetime module. It enables the formatting, parsing, and manipulation of dates and timings. When handling datasets with a temporal component, this is crucial.\n"
   ]
  },
  {
   "cell_type": "code",
   "execution_count": 8,
   "metadata": {},
   "outputs": [],
   "source": [
    "from datetime import datetime\n",
    "\n",
    "timestamp = datetime(2023, 1, 1, 11, 20)"
   ]
  },
  {
   "cell_type": "markdown",
   "metadata": {},
   "source": [
    "#### Getting Timestamps for Activities:It may be useful to timestamp events in an application to document their exact timing while tracking activity. For logging, analytics, or auditing purposes"
   ]
  },
  {
   "cell_type": "code",
   "execution_count": 11,
   "metadata": {},
   "outputs": [],
   "source": [
    "from datetime import datetime\n",
    "\n",
    "activity_timestamp = datetime.now()\n"
   ]
  },
  {
   "cell_type": "markdown",
   "metadata": {},
   "source": [
    "#### Adding Posts on a Blog:The datetime module can be used to timestamp blog entries when they are produced or edited, which is useful for blog management. This makes postings easier to arrange and view according to when they were published."
   ]
  },
  {
   "cell_type": "code",
   "execution_count": 13,
   "metadata": {},
   "outputs": [],
   "source": [
    "from datetime import datetime\n",
    "\n",
    "post_timestamp = datetime.now()"
   ]
  }
 ],
 "metadata": {
  "kernelspec": {
   "display_name": ".venv",
   "language": "python",
   "name": "python3"
  },
  "language_info": {
   "codemirror_mode": {
    "name": "ipython",
    "version": 3
   },
   "file_extension": ".py",
   "mimetype": "text/x-python",
   "name": "python",
   "nbconvert_exporter": "python",
   "pygments_lexer": "ipython3",
   "version": "3.11.3"
  }
 },
 "nbformat": 4,
 "nbformat_minor": 2
}
