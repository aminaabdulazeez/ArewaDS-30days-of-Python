{
 "cells": [
  {
   "cell_type": "code",
   "execution_count": null,
   "metadata": {},
   "outputs": [],
   "source": []
  },
  {
   "cell_type": "markdown",
   "metadata": {},
   "source": [
    "# Day 2 Assignment"
   ]
  },
  {
   "cell_type": "markdown",
   "metadata": {},
   "source": [
    "## Excercises:Level1"
   ]
  },
  {
   "cell_type": "code",
   "execution_count": 4,
   "metadata": {},
   "outputs": [],
   "source": [
    "# Day 2: 30 Days of python programming\n",
    "# variable declaration in python\n",
    "first_name = 'Abdulazeez'      #str\n",
    "last_name = 'Amina'            #str\n",
    "full_name = 'Abdulazeez Amina' #str\n",
    "country = 'Nigria'             # str\n",
    "city= 'Katsina'                # str\n",
    "age = 30                       #int\n",
    "year = 2021                    #int\n",
    "is_married = True              #bool\n",
    "is_true = True                 #bool\n",
    "is_light_on = True             #bool\n",
    "\n",
    "#declaring multiple variables in a line\n",
    "first_name, last_name, country, age, is_married = 'Abdulazeez', 'amina', 'Nigeria', 30, True\n"
   ]
  },
  {
   "cell_type": "markdown",
   "metadata": {},
   "source": [
    "## Exercises: Level 2"
   ]
  },
  {
   "cell_type": "code",
   "execution_count": 5,
   "metadata": {},
   "outputs": [
    {
     "name": "stdout",
     "output_type": "stream",
     "text": [
      "Abdulazeez\n",
      "amina\n",
      "Abdulazeez Amina\n",
      "Nigeria\n",
      "Katsina\n",
      "30\n",
      "2021\n",
      "True\n",
      "True\n",
      "True\n"
     ]
    }
   ],
   "source": [
    "#check data type of all variables declared\n",
    "print(first_name)\n",
    "print(last_name)\n",
    "print(full_name)\n",
    "print(country)\n",
    "print(city)\n",
    "print(age)\n",
    "print(year)\n",
    "print(is_married)\n",
    "print(is_true)\n",
    "print(is_light_on)"
   ]
  },
  {
   "cell_type": "code",
   "execution_count": 6,
   "metadata": {},
   "outputs": [
    {
     "name": "stdout",
     "output_type": "stream",
     "text": [
      "10\n"
     ]
    }
   ],
   "source": [
    "#find the length of your first name\n",
    "print(len(first_name))"
   ]
  },
  {
   "cell_type": "code",
   "execution_count": 8,
   "metadata": {},
   "outputs": [
    {
     "name": "stdout",
     "output_type": "stream",
     "text": [
      "The strings have different lengths\n"
     ]
    }
   ],
   "source": [
    "#Comparing the length of first name and last name\n",
    "if len(first_name) == len(last_name):\n",
    "    print('The strings have equal lengths')\n",
    "else:\n",
    "    print('The strings have different lengths')"
   ]
  },
  {
   "cell_type": "code",
   "execution_count": 10,
   "metadata": {},
   "outputs": [
    {
     "name": "stdout",
     "output_type": "stream",
     "text": [
      "9\n",
      "1\n",
      "20\n",
      "1.25\n",
      "4\n",
      "625\n",
      "1\n"
     ]
    }
   ],
   "source": [
    "#Declare 5 as num_one and 4 as num_two\n",
    "num_one = 5\n",
    "num_two = 4\n",
    "total = num_one + num_two\n",
    "diff = num_one - num_two\n",
    "product = num_two * num_one\n",
    "division = num_one / num_two\n",
    "remainder = num_two % num_one\n",
    "exp = num_one ** num_two\n",
    "floor_division = num_one // num_two\n",
    "print(total)\n",
    "print(diff)\n",
    "print(product)\n",
    "print(division)\n",
    "print(remainder)\n",
    "print(exp)\n",
    "print(floor_division)"
   ]
  },
  {
   "cell_type": "code",
   "execution_count": 3,
   "metadata": {},
   "outputs": [
    {
     "name": "stdout",
     "output_type": "stream",
     "text": [
      " The area of the given circle is:  2827.4333882308138\n",
      " The circumference of the given circle is:  188.49555921538757\n"
     ]
    }
   ],
   "source": [
    "# Area and circumference of a circle taking Radius as user input\n",
    "import math  \n",
    "radius = float (input (\"Please enter the radius of the given circle: \"))  \n",
    "area_of_circle = math.pi* radius * radius\n",
    "circum_of_circle = 2 * math.pi * radius  \n",
    "print (\" The area of the given circle is: \", area_of_circle) \n",
    "print (\" The circumference of the given circle is: \", circum_of_circle)"
   ]
  },
  {
   "cell_type": "code",
   "execution_count": 4,
   "metadata": {},
   "outputs": [
    {
     "name": "stdout",
     "output_type": "stream",
     "text": [
      "First Name: Abdulazeez\n",
      "Last Name: Amina\n",
      "Country: Nigeria\n",
      "Age: 30\n"
     ]
    }
   ],
   "source": [
    "#using built-in input function to get first name, last name, country and age from the user and store value to their corresponding variable names\n",
    "first_name = input(\"Enter your first name: \")\n",
    "last_name = input(\"Enter your last name: \")\n",
    "country = input(\"Enter your country: \")\n",
    "age = int(input(\"Enter your age: \"))\n",
    "\n",
    "print(\"First Name:\", first_name)\n",
    "print(\"Last Name:\", last_name)\n",
    "print(\"Country:\", country)\n",
    "print(\"Age:\", age)"
   ]
  },
  {
   "cell_type": "code",
   "execution_count": 6,
   "metadata": {},
   "outputs": [
    {
     "name": "stdout",
     "output_type": "stream",
     "text": [
      "\n",
      "Here is a list of the Python keywords.  Enter any keyword to get more help.\n",
      "\n",
      "False               class               from                or\n",
      "None                continue            global              pass\n",
      "True                def                 if                  raise\n",
      "and                 del                 import              return\n",
      "as                  elif                in                  try\n",
      "assert              else                is                  while\n",
      "async               except              lambda              with\n",
      "await               finally             nonlocal            yield\n",
      "break               for                 not                 \n",
      "\n"
     ]
    }
   ],
   "source": [
    "#check python reserved keywords \n",
    "help(\"keywords\")"
   ]
  }
 ],
 "metadata": {
  "kernelspec": {
   "display_name": ".venv",
   "language": "python",
   "name": "python3"
  },
  "language_info": {
   "codemirror_mode": {
    "name": "ipython",
    "version": 3
   },
   "file_extension": ".py",
   "mimetype": "text/x-python",
   "name": "python",
   "nbconvert_exporter": "python",
   "pygments_lexer": "ipython3",
   "version": "3.11.3"
  }
 },
 "nbformat": 4,
 "nbformat_minor": 2
}
