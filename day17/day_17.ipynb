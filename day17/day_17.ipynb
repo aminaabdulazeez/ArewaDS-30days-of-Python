{
 "cells": [
  {
   "cell_type": "markdown",
   "metadata": {},
   "source": [
    "# Day17 Assignment"
   ]
  },
  {
   "cell_type": "markdown",
   "metadata": {},
   "source": [
    "## Excercises"
   ]
  },
  {
   "cell_type": "code",
   "execution_count": 5,
   "metadata": {},
   "outputs": [
    {
     "name": "stdout",
     "output_type": "stream",
     "text": [
      "Nordic countries: ['Finland', 'Sweden', 'Norway', 'Denmark', 'Iceland']\n",
      "Estonia\n",
      "Russia\n"
     ]
    }
   ],
   "source": [
    "#Unpack the first five countries,store them in a variable nordic_countries, store Estonia and Russia in es, and ru respectively.\n",
    "names = ['Finland', 'Sweden', 'Norway','Denmark','Iceland', 'Estonia','Russia']\n",
    "\n",
    "nordic_countries = names[:5]\n",
    "\n",
    "es, ru = names[-2:]\n",
    "print(f\"Nordic countries: {nordic_countries}\")\n",
    "print(es)\n",
    "print(ru)"
   ]
  }
 ],
 "metadata": {
  "kernelspec": {
   "display_name": ".venv",
   "language": "python",
   "name": "python3"
  },
  "language_info": {
   "codemirror_mode": {
    "name": "ipython",
    "version": 3
   },
   "file_extension": ".py",
   "mimetype": "text/x-python",
   "name": "python",
   "nbconvert_exporter": "python",
   "pygments_lexer": "ipython3",
   "version": "3.11.3"
  }
 },
 "nbformat": 4,
 "nbformat_minor": 2
}
