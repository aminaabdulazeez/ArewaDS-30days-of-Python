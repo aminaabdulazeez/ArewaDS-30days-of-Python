{
 "cells": [
  {
   "cell_type": "markdown",
   "metadata": {},
   "source": [
    "## Day18 Assigment"
   ]
  },
  {
   "cell_type": "markdown",
   "metadata": {},
   "source": [
    "## Excercise:Level1"
   ]
  },
  {
   "cell_type": "code",
   "execution_count": 2,
   "metadata": {},
   "outputs": [
    {
     "name": "stdout",
     "output_type": "stream",
     "text": [
      "Most Frequent Word: love\n"
     ]
    }
   ],
   "source": [
    "#find the most frequent word in the paragraph\n",
    "import re\n",
    "\n",
    "paragraph = 'I love teaching. If you do not love teaching what else can you love. I love Python if you do not love something which can give you all the capabilities to develop an application what else can you love.'\n",
    "\n",
    "# Remove punctuation and convert the paragraph to lowercase\n",
    "cleaned_paragraph = re.sub(r'[^\\w\\s]', '', paragraph.lower())\n",
    "\n",
    "# Find all the words in the paragraph\n",
    "words = re.findall(r'\\b\\w+\\b', cleaned_paragraph)\n",
    "\n",
    "# Create a dictionary to store the frequency count of each word\n",
    "word_frequency = {}\n",
    "\n",
    "# Update the frequency count using regex functions\n",
    "for word in words:\n",
    "    word_frequency[word] = word_frequency.get(word, 0) + 1\n",
    "\n",
    "# Find the most frequent word using regex functions\n",
    "most_frequent_word = max(word_frequency, key=word_frequency.get)\n",
    "\n",
    "print(\"Most Frequent Word:\", most_frequent_word)"
   ]
  },
  {
   "cell_type": "code",
   "execution_count": 6,
   "metadata": {},
   "outputs": [
    {
     "name": "stdout",
     "output_type": "stream",
     "text": [
      "The distance between the furthest particles is 20.\n"
     ]
    }
   ],
   "source": [
    "#Extract these numbers and find the distance between the two furthest particles.\n",
    "points = ['-12', '-4', '-3', '-1', '0', '4', '8']\n",
    "sorted_points =  [-12, -4, -3, -1, -1, 0, 2, 4, 8]\n",
    "distance = 8 -(-12) \n",
    "\n",
    "points_text = \"The position of some particles on the horizontal x-axis are -12, -4, -3 and -1 in the negative direction, 0 at origin, 4 and 8 in the positive direction.\"\n",
    "\n",
    "import re\n",
    "numbers = re.findall(r\"-?\\d+\", points_text)\n",
    "\n",
    "points = [int(x) for x in numbers]\n",
    "\n",
    "sorted_points = sorted(points)\n",
    "\n",
    "distance = max(sorted_points) - min(sorted_points)\n",
    "\n",
    "print(f\"The distance between the furthest particles is {distance}.\")"
   ]
  },
  {
   "cell_type": "markdown",
   "metadata": {},
   "source": [
    "## Excercise:Level2"
   ]
  },
  {
   "cell_type": "code",
   "execution_count": 11,
   "metadata": {},
   "outputs": [
    {
     "name": "stdout",
     "output_type": "stream",
     "text": [
      "is_valid_variable('first_name') = True\n",
      "is_valid_variable('first-name') = False\n",
      "is_valid_variable('1first_name') = False\n",
      "is_valid_variable('firstname') = True\n"
     ]
    }
   ],
   "source": [
    "#Write a pattern which identifies if a string is a valid python variable\n",
    "def is_valid_variable(variable_name):\n",
    "    is_valid_variable('first_name') \n",
    "    is_valid_variable('first-name') \n",
    "    is_valid_variable('1first_name') \n",
    "    is_valid_variable('firstname') \n",
    "import re\n",
    "\n",
    "VALID_VARIABLE_PATTERN = r\"^[a-zA-Z_]\\w*$\"\n",
    "def is_valid_variable(variable_name):\n",
    "    match = re.match(VALID_VARIABLE_PATTERN, variable_name)\n",
    "    return bool(match)\n",
    "examples = [\"first_name\", \"first-name\", \"1first_name\", \"firstname\"]\n",
    "for example in examples:\n",
    "    print(f\"is_valid_variable('{example}') = {is_valid_variable(example)}\")"
   ]
  },
  {
   "cell_type": "markdown",
   "metadata": {},
   "source": [
    "## Excercise:Level3"
   ]
  },
  {
   "cell_type": "code",
   "execution_count": 8,
   "metadata": {},
   "outputs": [
    {
     "name": "stdout",
     "output_type": "stream",
     "text": [
      "Cleaned sentence: i am a teacher and i love teaching there is nothing as more rewarding as educating and empowering people i found teaching more interesting than any other jobs does this motivate you to be a teacher\n",
      "Three most frequent words:\n",
      "i (3)\n",
      "a (2)\n",
      "teacher (2)\n"
     ]
    }
   ],
   "source": [
    "#Clean the following text and count three most frequent words in the string.\n",
    "sentence = '''%I $am@% a %tea@cher%, &and& I lo%#ve %tea@ching%;. There $is nothing; &as& mo@re rewarding as educa@ting &and& @emp%o@wering peo@ple. ;I found tea@ching m%o@re interesting tha@n any other %jo@bs. %Do@es thi%s mo@tivate yo@u to be a tea@cher!?'''\n",
    "import re\n",
    "from collections import Counter\n",
    "\n",
    "cleaned_sentence = re.sub(r\"[^a-zA-Z0-9\\s]\", \"\", sentence.lower())  # Remove special characters and convert to lowercase\n",
    "cleaned_sentence = re.sub(r\"\\s+\", \" \", cleaned_sentence)  # Remove extra whitespace\n",
    "\n",
    "words = cleaned_sentence.split()\n",
    "\n",
    "word_counts = Counter(words)\n",
    "\n",
    "most_frequent_words = word_counts.most_common(3)\n",
    "\n",
    "print(\"Cleaned sentence:\", cleaned_sentence)\n",
    "print(\"Three most frequent words:\")\n",
    "for word, count in most_frequent_words:\n",
    "   print(f\"{word} ({count})\")"
   ]
  }
 ],
 "metadata": {
  "kernelspec": {
   "display_name": ".venv",
   "language": "python",
   "name": "python3"
  },
  "language_info": {
   "codemirror_mode": {
    "name": "ipython",
    "version": 3
   },
   "file_extension": ".py",
   "mimetype": "text/x-python",
   "name": "python",
   "nbconvert_exporter": "python",
   "pygments_lexer": "ipython3",
   "version": "3.11.3"
  }
 },
 "nbformat": 4,
 "nbformat_minor": 2
}
