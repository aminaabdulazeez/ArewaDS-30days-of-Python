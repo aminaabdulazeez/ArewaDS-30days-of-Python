{
 "cells": [
  {
   "cell_type": "markdown",
   "metadata": {},
   "source": [
    "# Day 5 Assignment\n"
   ]
  },
  {
   "cell_type": "markdown",
   "metadata": {},
   "source": [
    "## Excercises:Level 1"
   ]
  },
  {
   "cell_type": "code",
   "execution_count": 1,
   "metadata": {},
   "outputs": [],
   "source": [
    "# Declare an empty list\n",
    "empty_list = []"
   ]
  },
  {
   "cell_type": "code",
   "execution_count": 2,
   "metadata": {},
   "outputs": [
    {
     "name": "stdout",
     "output_type": "stream",
     "text": [
      "['Amina', 'Abubakar', 'Yusuf', 'Aman', 'Aisha', 'Fatima', 'Aminu']\n"
     ]
    }
   ],
   "source": [
    "#Declare a list with more than 5 items\n",
    "names = ['Amina', 'Abubakar', 'Yusuf', 'Aman', 'Aisha', 'Fatima','Aminu']\n",
    "print(names)"
   ]
  },
  {
   "cell_type": "code",
   "execution_count": 3,
   "metadata": {},
   "outputs": [
    {
     "name": "stdout",
     "output_type": "stream",
     "text": [
      "7\n"
     ]
    }
   ],
   "source": [
    "#Find length of your list\n",
    "print(len(names))"
   ]
  },
  {
   "cell_type": "code",
   "execution_count": 4,
   "metadata": {},
   "outputs": [
    {
     "name": "stdout",
     "output_type": "stream",
     "text": [
      "First item: Amina\n",
      "Middle item: Aman\n",
      "Last item: Aminu\n"
     ]
    }
   ],
   "source": [
    "#Get the first item, the middle item and the last item of the list\n",
    "print(f'First item: {names[0]}')\n",
    "print(f'Middle item: {names[len(names) // 2]}')\n",
    "print(f'Last item: {names[-1]}')"
   ]
  },
  {
   "cell_type": "code",
   "execution_count": 5,
   "metadata": {},
   "outputs": [
    {
     "name": "stdout",
     "output_type": "stream",
     "text": [
      "['Amina', 29, 1.55, 'Married', 'Saulawa']\n"
     ]
    }
   ],
   "source": [
    "#Declare a list called mixed_data_types, put your(name, age, height, marital status, address)\n",
    "name = 'Amina'\n",
    "age = 29  \n",
    "height = 1.55 #in meters \n",
    "marital_status = 'Married'\n",
    "address = 'Saulawa'\n",
    "mixed_data_types = [name, age, height, marital_status, address]\n",
    "\n",
    "print(mixed_data_types)"
   ]
  },
  {
   "cell_type": "code",
   "execution_count": 6,
   "metadata": {},
   "outputs": [],
   "source": [
    "#Declare a list variable named it_companies and assign initial values Facebook, Google, Microsoft, Apple, IBM, Oracle and Amazon.\n",
    "it_companies = ['Facebook', 'Google', 'Microsoft', 'Apple', 'IBM', 'Oracle', 'Amazon']"
   ]
  },
  {
   "cell_type": "code",
   "execution_count": 7,
   "metadata": {},
   "outputs": [
    {
     "name": "stdout",
     "output_type": "stream",
     "text": [
      "['Facebook', 'Google', 'Microsoft', 'Apple', 'IBM', 'Oracle', 'Amazon']\n"
     ]
    }
   ],
   "source": [
    "#Print the list using print()\n",
    "print(it_companies)"
   ]
  },
  {
   "cell_type": "code",
   "execution_count": 8,
   "metadata": {},
   "outputs": [
    {
     "name": "stdout",
     "output_type": "stream",
     "text": [
      "Number of companies: 7\n"
     ]
    }
   ],
   "source": [
    "#Print the number of companies in the list\n",
    "print(f'Number of companies: {len(it_companies)}')"
   ]
  },
  {
   "cell_type": "code",
   "execution_count": 9,
   "metadata": {},
   "outputs": [
    {
     "name": "stdout",
     "output_type": "stream",
     "text": [
      "First company: Facebook\n",
      "Middle company: Apple\n",
      "Last company: Amazon\n"
     ]
    }
   ],
   "source": [
    "#Print the first, middle and last company\n",
    "print(f'First company: {it_companies[0]}')\n",
    "print(f'Middle company: {it_companies[len(it_companies) // 2]}')\n",
    "print(f'Last company: {it_companies[-1]}')"
   ]
  },
  {
   "cell_type": "code",
   "execution_count": 13,
   "metadata": {},
   "outputs": [
    {
     "name": "stdout",
     "output_type": "stream",
     "text": [
      "['Facebook', 'Google', 'BlackBerry', 'IBM', 'Oracle', 'Amazon']\n"
     ]
    }
   ],
   "source": [
    "#Print the list after modifying one of the companies\n",
    "word_to_remove = \"Apple\"\n",
    "it_companies.remove(word_to_remove)\n",
    "print(it_companies)"
   ]
  },
  {
   "cell_type": "code",
   "execution_count": 14,
   "metadata": {},
   "outputs": [
    {
     "name": "stdout",
     "output_type": "stream",
     "text": [
      "['Facebook', 'Google', 'BlackBerry', 'IBM', 'Oracle', 'Amazon', 'Microsoft']\n"
     ]
    }
   ],
   "source": [
    "#Add an IT company to it_companies\n",
    "it_companies.append('Microsoft')\n",
    "print(it_companies)"
   ]
  },
  {
   "cell_type": "code",
   "execution_count": 15,
   "metadata": {},
   "outputs": [
    {
     "name": "stdout",
     "output_type": "stream",
     "text": [
      "['Facebook', 'Google', 'BlackBerry', 'Twitter', 'IBM', 'Oracle', 'Amazon', 'Microsoft']\n"
     ]
    }
   ],
   "source": [
    "#Insert an IT company in the middle of companies list\n",
    "middle_index = len(it_companies) // 2\n",
    "it_companies.insert(middle_index, 'Twitter')\n",
    "print(it_companies)"
   ]
  },
  {
   "cell_type": "code",
   "execution_count": 20,
   "metadata": {},
   "outputs": [
    {
     "name": "stdout",
     "output_type": "stream",
     "text": [
      "Updated: ['FACEBOOK', 'google', 'BlackBerry', 'Twitter', 'IBM', 'Oracle', 'Amazon', 'Microsoft']\n"
     ]
    }
   ],
   "source": [
    "#Change one of the it_companies names to uppercase (IBM excluded!)\n",
    "item_index = 0 \n",
    "it_companies[item_index] = it_companies[item_index].upper()\n",
    "print(f'Updated: {it_companies}')"
   ]
  },
  {
   "cell_type": "code",
   "execution_count": 22,
   "metadata": {},
   "outputs": [
    {
     "name": "stdout",
     "output_type": "stream",
     "text": [
      "Companies : FACEBOOK#;google#;BlackBerry#;Twitter#;IBM#;Oracle#;Amazon#;Microsoft\n"
     ]
    }
   ],
   "source": [
    "#Join the it_companies with a string '#;  '\n",
    "join_com = '#;'.join(it_companies)\n",
    "print(f'Companies : {join_com}')"
   ]
  },
  {
   "cell_type": "code",
   "execution_count": 24,
   "metadata": {},
   "outputs": [
    {
     "name": "stdout",
     "output_type": "stream",
     "text": [
      "BlackBerry exists in the list.\n"
     ]
    }
   ],
   "source": [
    "#Check if a certain company exists in the it_companies list.\n",
    "check_company = 'BlackBerry'\n",
    "\n",
    "if check_company in it_companies:\n",
    "    print(f'{check_company} exists in the list.')\n",
    "else:\n",
    "    print(f'{check_company} does not exist in the list.')"
   ]
  },
  {
   "cell_type": "code",
   "execution_count": 25,
   "metadata": {},
   "outputs": [
    {
     "name": "stdout",
     "output_type": "stream",
     "text": [
      "Sorted list: ['Amazon', 'BlackBerry', 'FACEBOOK', 'IBM', 'Microsoft', 'Oracle', 'Twitter', 'google']\n"
     ]
    }
   ],
   "source": [
    "#Sort the list using sort() method\n",
    "it_companies.sort()\n",
    "print(f'Sorted list: {it_companies}')"
   ]
  },
  {
   "cell_type": "code",
   "execution_count": 26,
   "metadata": {},
   "outputs": [
    {
     "name": "stdout",
     "output_type": "stream",
     "text": [
      "Reversed list:['google', 'Twitter', 'Oracle', 'Microsoft', 'IBM', 'FACEBOOK', 'BlackBerry', 'Amazon']\n"
     ]
    }
   ],
   "source": [
    "#Reverse the list in descending order using reverse() method\n",
    "it_companies.reverse()\n",
    "print(f'Reversed list:{it_companies}')"
   ]
  },
  {
   "cell_type": "code",
   "execution_count": 47,
   "metadata": {},
   "outputs": [
    {
     "name": "stdout",
     "output_type": "stream",
     "text": [
      "['Microsoft', 'IBM', 'FACEBOOK', 'BlackBerry', 'Amazon']\n"
     ]
    }
   ],
   "source": [
    "#Slice out the first 3 companies from the list\n",
    "print(it_companies[3:])"
   ]
  },
  {
   "cell_type": "code",
   "execution_count": 50,
   "metadata": {},
   "outputs": [
    {
     "name": "stdout",
     "output_type": "stream",
     "text": [
      "['google', 'Twitter', 'Oracle', 'Microsoft', 'IBM']\n"
     ]
    }
   ],
   "source": [
    "#Slice out the last 3 companies from the list\n",
    "print(it_companies[:-3])"
   ]
  },
  {
   "cell_type": "code",
   "execution_count": 59,
   "metadata": {},
   "outputs": [
    {
     "name": "stdout",
     "output_type": "stream",
     "text": [
      "['Microsoft', 'IBM', 'FACEBOOK', 'BlackBerry', 'Amazon']\n"
     ]
    }
   ],
   "source": [
    "#Remove the first IT company from the list\n",
    "print(it_companies[1:])"
   ]
  },
  {
   "cell_type": "code",
   "execution_count": 62,
   "metadata": {},
   "outputs": [
    {
     "name": "stdout",
     "output_type": "stream",
     "text": [
      "['Oracle', 'Microsoft', 'BlackBerry', 'Amazon']\n"
     ]
    }
   ],
   "source": [
    "#Remove the middle IT company or companies from the list\n",
    "middle_index = len(it_companies) // 2\n",
    "removed_item = it_companies.pop(middle_index)\n",
    "\n",
    "print(it_companies)"
   ]
  },
  {
   "cell_type": "code",
   "execution_count": null,
   "metadata": {},
   "outputs": [],
   "source": [
    "#Remove the last IT company from the list\n",
    "del it_companies[6]\n",
    "print(it_companies}')"
   ]
  },
  {
   "cell_type": "code",
   "execution_count": 63,
   "metadata": {},
   "outputs": [
    {
     "name": "stdout",
     "output_type": "stream",
     "text": [
      "[]\n"
     ]
    }
   ],
   "source": [
    "#Destroy the IT companies list\n",
    "it_companies.clear()\n",
    "print(it_companies)"
   ]
  },
  {
   "cell_type": "code",
   "execution_count": 64,
   "metadata": {},
   "outputs": [
    {
     "name": "stdout",
     "output_type": "stream",
     "text": [
      "Frontend and Backend: ['HTML', 'CSS', 'JS', 'React', 'Redux', 'Node', 'Express', 'MongoDB']\n"
     ]
    }
   ],
   "source": [
    "#Join the lists:\n",
    "\n",
    "front_end = ['HTML', 'CSS', 'JS', 'React', 'Redux']\n",
    "back_end = ['Node','Express', 'MongoDB']\n",
    "front_end.extend (back_end)\n",
    "\n",
    "print('Frontend and Backend:', front_end)"
   ]
  },
  {
   "cell_type": "code",
   "execution_count": 65,
   "metadata": {},
   "outputs": [
    {
     "name": "stdout",
     "output_type": "stream",
     "text": [
      "Updated Full Stack: ['HTML', 'CSS', 'JS', 'React', 'Redux', 'Python', 'SQL', 'Node', 'Express', 'MongoDB']\n"
     ]
    }
   ],
   "source": [
    "#Copy the joined list, assign it to a variable full_stack and insert Python and SQL after Redux.\n",
    "full_stack = ['HTML', 'CSS', 'JS', 'React', 'Redux', 'Node', 'Express', 'MongoDB']\n",
    "redux_index = full_stack.index('Redux')\n",
    "\n",
    "full_stack.insert(redux_index + 1, 'Python')\n",
    "full_stack.insert(redux_index + 2, 'SQL')\n",
    "\n",
    "print('Updated Full Stack:', full_stack)"
   ]
  },
  {
   "cell_type": "markdown",
   "metadata": {},
   "source": [
    "## Excercise 2"
   ]
  },
  {
   "cell_type": "code",
   "execution_count": 13,
   "metadata": {},
   "outputs": [
    {
     "name": "stdout",
     "output_type": "stream",
     "text": [
      "Sorted Ages: [19, 19, 20, 22, 24, 24, 24, 25, 25, 26]\n",
      "Minimum Age: 19\n",
      "Maximum Age: 26\n"
     ]
    }
   ],
   "source": [
    "#Sort the list and find the min and max age\n",
    "ages = [19, 22, 19, 24, 20, 25, 26, 24, 25, 24]\n",
    "\n",
    "ages.sort()\n",
    "min_age = min(ages)\n",
    "max_age = max(ages)\n",
    "\n",
    "print('Sorted Ages:', ages)\n",
    "print('Minimum Age:', min_age)\n",
    "print('Maximum Age:', max_age)"
   ]
  },
  {
   "cell_type": "code",
   "execution_count": 17,
   "metadata": {},
   "outputs": [
    {
     "name": "stdout",
     "output_type": "stream",
     "text": [
      "Updated Ages: [19, 19, 20, 22, 24, 24, 24, 25, 25, 26, 19, 26, 19, 26]\n"
     ]
    }
   ],
   "source": [
    "#Add the min and max age again to the list\n",
    "ages.append(min_age)\n",
    "ages.append(max_age)\n",
    "\n",
    "print(f'Updated Ages:', ages)"
   ]
  },
  {
   "cell_type": "code",
   "execution_count": 18,
   "metadata": {},
   "outputs": [
    {
     "name": "stdout",
     "output_type": "stream",
     "text": [
      "Median Age: 24.5\n"
     ]
    }
   ],
   "source": [
    "#Find the median age (one middle item or two middle items divided by two)\n",
    "n = len(ages)\n",
    "middle1 = ages[n // 2 - 1]\n",
    "middle2 = ages[n // 2]\n",
    "median_age = (middle1 + middle2) / 2\n",
    "\n",
    "print('Median Age:', median_age)"
   ]
  },
  {
   "cell_type": "code",
   "execution_count": 19,
   "metadata": {},
   "outputs": [
    {
     "name": "stdout",
     "output_type": "stream",
     "text": [
      "Average Age: 22.714285714285715\n"
     ]
    }
   ],
   "source": [
    "#Find the average age \n",
    "average_age = sum(ages) / len(ages)\n",
    "print('Average Age:', average_age)"
   ]
  },
  {
   "cell_type": "code",
   "execution_count": 20,
   "metadata": {},
   "outputs": [
    {
     "name": "stdout",
     "output_type": "stream",
     "text": [
      "Range of Ages: 7\n"
     ]
    }
   ],
   "source": [
    "#Find the range of the ages \n",
    "age_range = max(ages) - min(ages)\n",
    "\n",
    "print('Range of Ages:', age_range)"
   ]
  },
  {
   "cell_type": "code",
   "execution_count": 21,
   "metadata": {},
   "outputs": [
    {
     "name": "stdout",
     "output_type": "stream",
     "text": [
      "Absolute Difference (min - average): 3.7142857142857153\n",
      "Absolute Difference (max - average): 3.2857142857142847\n"
     ]
    }
   ],
   "source": [
    "#Compare the value of (min - average) and (max - average), use abs() method\n",
    "average_age = sum(ages) / len(ages)\n",
    "\n",
    "min_difference = abs(min(ages) - average_age)\n",
    "max_difference = abs(max(ages) - average_age)\n",
    "\n",
    "print('Absolute Difference (min - average):', min_difference)\n",
    "print('Absolute Difference (max - average):', max_difference)"
   ]
  },
  {
   "cell_type": "code",
   "execution_count": 24,
   "metadata": {},
   "outputs": [
    {
     "name": "stdout",
     "output_type": "stream",
     "text": [
      "Middle Country: Lesotho\n"
     ]
    }
   ],
   "source": [
    "#Find the middle country(ies) in the countries list\n",
    "countries = [\n",
    "    'Afghanistan', 'Albania', 'Algeria', 'Andorra', 'Angola', 'Antigua and Barbuda', 'Argentina', 'Armenia',\n",
    "    'Australia', 'Austria', 'Azerbaijan', 'Bahamas', 'Bahrain', 'Bangladesh', 'Barbados', 'Belarus', 'Belgium',\n",
    "    'Belize', 'Benin', 'Bhutan', 'Bolivia', 'Bosnia and Herzegovina', 'Botswana', 'Brazil', 'Brunei', 'Bulgaria',\n",
    "    'Burkina Faso', 'Burundi', 'Cambodia', 'Cameroon', 'Canada', 'Cape Verde', 'Central African Republic', 'Chad',\n",
    "    'Chile', 'China', 'Colombia', 'Comoros', 'Congo (Brazzaville)', 'Congo', 'Costa Rica', \"Cote d'Ivoire\", 'Croatia',\n",
    "    'Cuba', 'Cyprus', 'Czech Republic', 'Denmark', 'Djibouti', 'Dominica', 'Dominican Republic',\n",
    "    'East Timor (Timor Timur)', 'Ecuador', 'Egypt', 'El Salvador', 'Equatorial Guinea', 'Eritrea', 'Estonia', 'Ethiopia',\n",
    "    'Fiji', 'Finland', 'France', 'Gabon', 'Gambia, The', 'Georgia', 'Germany', 'Ghana', 'Greece', 'Grenada', 'Guatemala',\n",
    "    'Guinea', 'Guinea-Bissau', 'Guyana', 'Haiti', 'Honduras', 'Hungary', 'Iceland', 'India', 'Indonesia', 'Iran', 'Iraq',\n",
    "    'Ireland', 'Israel', 'Italy', 'Jamaica', 'Japan', 'Jordan', 'Kazakhstan', 'Kenya', 'Kiribati', 'Korea, North',\n",
    "    'Korea, South', 'Kuwait', 'Kyrgyzstan', 'Laos', 'Latvia', 'Lebanon', 'Lesotho', 'Liberia', 'Libya',\n",
    "    'Liechtenstein', 'Lithuania', 'Luxembourg', 'Macedonia', 'Madagascar', 'Malawi', 'Malaysia', 'Maldives', 'Mali',\n",
    "    'Malta', 'Marshall Islands', 'Mauritania', 'Mauritius', 'Mexico', 'Micronesia', 'Moldova', 'Monaco', 'Mongolia',\n",
    "    'Morocco', 'Mozambique', 'Myanmar', 'Namibia', 'Nauru', 'Nepal', 'Netherlands', 'New Zealand', 'Nicaragua', 'Niger',\n",
    "    'Nigeria', 'Norway', 'Oman', 'Pakistan', 'Palau', 'Panama', 'Papua New Guinea', 'Paraguay', 'Peru', 'Philippines',\n",
    "    'Poland', 'Portugal', 'Qatar', 'Romania', 'Russia', 'Rwanda', 'Saint Kitts and Nevis', 'Saint Lucia', 'Saint Vincent',\n",
    "    'Samoa', 'San Marino', 'Sao Tome and Principe', 'Saudi Arabia', 'Senegal', 'Serbia and Montenegro', 'Seychelles',\n",
    "    'Sierra Leone', 'Singapore', 'Slovakia', 'Slovenia', 'Solomon Islands', 'Somalia', 'South Africa', 'Spain',\n",
    "    'Sri Lanka', 'Sudan', 'Suriname', 'Swaziland', 'Sweden', 'Switzerland', 'Syria', 'Taiwan', 'Tajikistan', 'Tanzania',\n",
    "    'Thailand', 'Togo', 'Tonga', 'Trinidad and Tobago', 'Tunisia', 'Turkey', 'Turkmenistan', 'Tuvalu', 'Uganda', 'Ukraine',\n",
    "    'United Arab Emirates', 'United Kingdom', 'United States', 'Uruguay', 'Uzbekistan', 'Vanuatu', 'Vatican City',\n",
    "    'Venezuela', 'Vietnam', 'Yemen', 'Zambia', 'Zimbabwe',\n",
    "]\n",
    "\n",
    "middle_index = len(countries) // 2\n",
    "middle_country = countries[middle_index]\n",
    "\n",
    "print('Middle Country:', middle_country)"
   ]
  },
  {
   "cell_type": "code",
   "execution_count": 25,
   "metadata": {},
   "outputs": [
    {
     "name": "stdout",
     "output_type": "stream",
     "text": [
      "First Half: ['Afghanistan', 'Albania', 'Algeria', 'Andorra', 'Angola', 'Antigua and Barbuda', 'Argentina', 'Armenia', 'Australia', 'Austria', 'Azerbaijan', 'Bahamas', 'Bahrain', 'Bangladesh', 'Barbados', 'Belarus', 'Belgium', 'Belize', 'Benin', 'Bhutan', 'Bolivia', 'Bosnia and Herzegovina', 'Botswana', 'Brazil', 'Brunei', 'Bulgaria', 'Burkina Faso', 'Burundi', 'Cambodia', 'Cameroon', 'Canada', 'Cape Verde', 'Central African Republic', 'Chad', 'Chile', 'China', 'Colombia', 'Comoros', 'Congo (Brazzaville)', 'Congo', 'Costa Rica', \"Cote d'Ivoire\", 'Croatia', 'Cuba', 'Cyprus', 'Czech Republic', 'Denmark', 'Djibouti', 'Dominica', 'Dominican Republic', 'East Timor (Timor Timur)', 'Ecuador', 'Egypt', 'El Salvador', 'Equatorial Guinea', 'Eritrea', 'Estonia', 'Ethiopia', 'Fiji', 'Finland', 'France', 'Gabon', 'Gambia, The', 'Georgia', 'Germany', 'Ghana', 'Greece', 'Grenada', 'Guatemala', 'Guinea', 'Guinea-Bissau', 'Guyana', 'Haiti', 'Honduras', 'Hungary', 'Iceland', 'India', 'Indonesia', 'Iran', 'Iraq', 'Ireland', 'Israel', 'Italy', 'Jamaica', 'Japan', 'Jordan', 'Kazakhstan', 'Kenya', 'Kiribati', 'Korea, North', 'Korea, South', 'Kuwait', 'Kyrgyzstan', 'Laos', 'Latvia', 'Lebanon', 'Lesotho']\n",
      "Second Half: ['Liberia', 'Libya', 'Liechtenstein', 'Lithuania', 'Luxembourg', 'Macedonia', 'Madagascar', 'Malawi', 'Malaysia', 'Maldives', 'Mali', 'Malta', 'Marshall Islands', 'Mauritania', 'Mauritius', 'Mexico', 'Micronesia', 'Moldova', 'Monaco', 'Mongolia', 'Morocco', 'Mozambique', 'Myanmar', 'Namibia', 'Nauru', 'Nepal', 'Netherlands', 'New Zealand', 'Nicaragua', 'Niger', 'Nigeria', 'Norway', 'Oman', 'Pakistan', 'Palau', 'Panama', 'Papua New Guinea', 'Paraguay', 'Peru', 'Philippines', 'Poland', 'Portugal', 'Qatar', 'Romania', 'Russia', 'Rwanda', 'Saint Kitts and Nevis', 'Saint Lucia', 'Saint Vincent', 'Samoa', 'San Marino', 'Sao Tome and Principe', 'Saudi Arabia', 'Senegal', 'Serbia and Montenegro', 'Seychelles', 'Sierra Leone', 'Singapore', 'Slovakia', 'Slovenia', 'Solomon Islands', 'Somalia', 'South Africa', 'Spain', 'Sri Lanka', 'Sudan', 'Suriname', 'Swaziland', 'Sweden', 'Switzerland', 'Syria', 'Taiwan', 'Tajikistan', 'Tanzania', 'Thailand', 'Togo', 'Tonga', 'Trinidad and Tobago', 'Tunisia', 'Turkey', 'Turkmenistan', 'Tuvalu', 'Uganda', 'Ukraine', 'United Arab Emirates', 'United Kingdom', 'United States', 'Uruguay', 'Uzbekistan', 'Vanuatu', 'Vatican City', 'Venezuela', 'Vietnam', 'Yemen', 'Zambia', 'Zimbabwe']\n"
     ]
    }
   ],
   "source": [
    "#Divide the countries list into two equal lists \n",
    "middle_index = len(countries) // 2\n",
    "\n",
    "first_half = countries[:middle_index + len(countries) % 2:]\n",
    "second_half = countries[middle_index + len(countries) % 2:]\n",
    "\n",
    "print('First Half:', first_half)\n",
    "print('Second Half:', second_half)"
   ]
  },
  {
   "cell_type": "code",
   "execution_count": 26,
   "metadata": {},
   "outputs": [
    {
     "name": "stdout",
     "output_type": "stream",
     "text": [
      "First Country: Afghanistan\n",
      "Second Country: Albania\n",
      "Third Country: Algeria\n",
      "Scandic Countries: ['Andorra', 'Angola', 'Antigua and Barbuda', 'Argentina', 'Armenia', 'Australia', 'Austria', 'Azerbaijan', 'Bahamas', 'Bahrain', 'Bangladesh', 'Barbados', 'Belarus', 'Belgium', 'Belize', 'Benin', 'Bhutan', 'Bolivia', 'Bosnia and Herzegovina', 'Botswana', 'Brazil', 'Brunei', 'Bulgaria', 'Burkina Faso', 'Burundi', 'Cambodia', 'Cameroon', 'Canada', 'Cape Verde', 'Central African Republic', 'Chad', 'Chile', 'China', 'Colombia', 'Comoros', 'Congo (Brazzaville)', 'Congo', 'Costa Rica', \"Cote d'Ivoire\", 'Croatia', 'Cuba', 'Cyprus', 'Czech Republic', 'Denmark', 'Djibouti', 'Dominica', 'Dominican Republic', 'East Timor (Timor Timur)', 'Ecuador', 'Egypt', 'El Salvador', 'Equatorial Guinea', 'Eritrea', 'Estonia', 'Ethiopia', 'Fiji', 'Finland', 'France', 'Gabon', 'Gambia, The', 'Georgia', 'Germany', 'Ghana', 'Greece', 'Grenada', 'Guatemala', 'Guinea', 'Guinea-Bissau', 'Guyana', 'Haiti', 'Honduras', 'Hungary', 'Iceland', 'India', 'Indonesia', 'Iran', 'Iraq', 'Ireland', 'Israel', 'Italy', 'Jamaica', 'Japan', 'Jordan', 'Kazakhstan', 'Kenya', 'Kiribati', 'Korea, North', 'Korea, South', 'Kuwait', 'Kyrgyzstan', 'Laos', 'Latvia', 'Lebanon', 'Lesotho', 'Liberia', 'Libya', 'Liechtenstein', 'Lithuania', 'Luxembourg', 'Macedonia', 'Madagascar', 'Malawi', 'Malaysia', 'Maldives', 'Mali', 'Malta', 'Marshall Islands', 'Mauritania', 'Mauritius', 'Mexico', 'Micronesia', 'Moldova', 'Monaco', 'Mongolia', 'Morocco', 'Mozambique', 'Myanmar', 'Namibia', 'Nauru', 'Nepal', 'Netherlands', 'New Zealand', 'Nicaragua', 'Niger', 'Nigeria', 'Norway', 'Oman', 'Pakistan', 'Palau', 'Panama', 'Papua New Guinea', 'Paraguay', 'Peru', 'Philippines', 'Poland', 'Portugal', 'Qatar', 'Romania', 'Russia', 'Rwanda', 'Saint Kitts and Nevis', 'Saint Lucia', 'Saint Vincent', 'Samoa', 'San Marino', 'Sao Tome and Principe', 'Saudi Arabia', 'Senegal', 'Serbia and Montenegro', 'Seychelles', 'Sierra Leone', 'Singapore', 'Slovakia', 'Slovenia', 'Solomon Islands', 'Somalia', 'South Africa', 'Spain', 'Sri Lanka', 'Sudan', 'Suriname', 'Swaziland', 'Sweden', 'Switzerland', 'Syria', 'Taiwan', 'Tajikistan', 'Tanzania', 'Thailand', 'Togo', 'Tonga', 'Trinidad and Tobago', 'Tunisia', 'Turkey', 'Turkmenistan', 'Tuvalu', 'Uganda', 'Ukraine', 'United Arab Emirates', 'United Kingdom', 'United States', 'Uruguay', 'Uzbekistan', 'Vanuatu', 'Vatican City', 'Venezuela', 'Vietnam', 'Yemen', 'Zambia', 'Zimbabwe']\n"
     ]
    }
   ],
   "source": [
    "# Unpack the first three countries and the rest as scandic countries.\n",
    "first_country, second_country, third_country, *scandic_countries = countries\n",
    "\n",
    "print('First Country:', first_country)\n",
    "print('Second Country:', second_country)\n",
    "print('Third Country:', third_country)\n",
    "print('Scandic Countries:', scandic_countries)"
   ]
  }
 ],
 "metadata": {
  "kernelspec": {
   "display_name": ".venv",
   "language": "python",
   "name": "python3"
  },
  "language_info": {
   "codemirror_mode": {
    "name": "ipython",
    "version": 3
   },
   "file_extension": ".py",
   "mimetype": "text/x-python",
   "name": "python",
   "nbconvert_exporter": "python",
   "pygments_lexer": "ipython3",
   "version": "3.11.3"
  }
 },
 "nbformat": 4,
 "nbformat_minor": 2
}
