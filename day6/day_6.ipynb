{
 "cells": [
  {
   "cell_type": "markdown",
   "metadata": {},
   "source": [
    "# Day 6 Assignment "
   ]
  },
  {
   "cell_type": "markdown",
   "metadata": {},
   "source": [
    "## Excercise: Level1"
   ]
  },
  {
   "cell_type": "code",
   "execution_count": 2,
   "metadata": {},
   "outputs": [],
   "source": [
    "# Create an empty tuple\n",
    "empty_tuple = ()"
   ]
  },
  {
   "cell_type": "code",
   "execution_count": 3,
   "metadata": {},
   "outputs": [
    {
     "name": "stdout",
     "output_type": "stream",
     "text": [
      "('Aminu', 'Fatima', 'Almustapha', 'Abubakar', 'Rukayya')\n"
     ]
    }
   ],
   "source": [
    "#Create a tuple containing names of your sisters and your brothers\n",
    "siblings =('Aminu','Fatima','Almustapha','Abubakar','Rukayya')\n",
    "print(siblings)"
   ]
  },
  {
   "cell_type": "code",
   "execution_count": 5,
   "metadata": {},
   "outputs": [
    {
     "name": "stdout",
     "output_type": "stream",
     "text": [
      "('Fatima', 'Rukayya', 'Aminu', 'Almustapha', 'Abubakar')\n"
     ]
    }
   ],
   "source": [
    "#Join brothers and sisters tuples and assign it to siblings\n",
    "sisters = ('Fatima','Rukayya')\n",
    "brothers = ('Aminu','Almustapha','Abubakar')\n",
    "siblings = sisters + brothers\n",
    "print(siblings)"
   ]
  },
  {
   "cell_type": "code",
   "execution_count": 6,
   "metadata": {},
   "outputs": [
    {
     "name": "stdout",
     "output_type": "stream",
     "text": [
      "I have 5 siblings.\n"
     ]
    }
   ],
   "source": [
    "#number of siblings\n",
    "num_siblings = len(siblings)\n",
    "print('I have', num_siblings, 'siblings.')"
   ]
  },
  {
   "cell_type": "code",
   "execution_count": 8,
   "metadata": {},
   "outputs": [
    {
     "name": "stdout",
     "output_type": "stream",
     "text": [
      "('Fatima', 'Rukayya', 'Aminu', 'Almustapha', 'Abubakar', 'Abdulazeez', 'Asiya')\n"
     ]
    }
   ],
   "source": [
    "#Modify the siblings tuple and add the name of your father and mother and assign it to family_members\n",
    "siblings =('Fatima', 'Rukayya', 'Aminu', 'Almustapha', 'Abubakar')\n",
    "father = 'Abdulazeez'\n",
    "mother = 'Asiya'\n",
    "family_members = siblings + (father, mother)\n",
    "print(family_members)"
   ]
  },
  {
   "cell_type": "markdown",
   "metadata": {},
   "source": [
    "## Excersice: Level 2"
   ]
  },
  {
   "cell_type": "code",
   "execution_count": 9,
   "metadata": {},
   "outputs": [
    {
     "name": "stdout",
     "output_type": "stream",
     "text": [
      "('Abdulazeez', 'Asiya')\n",
      "('Fatima', 'Rukayya')\n",
      "('Aminu', 'Almustapha', 'Abubakar')\n"
     ]
    }
   ],
   "source": [
    "#Unpack siblings and parents from family_members\n",
    "family_members = ('Fatima', 'Rukayya', 'Aminu', 'Almustapha', 'Abubakar', 'Abdulazeez', 'Asiya')\n",
    "sisters = family_members[:2]\n",
    "brothers = family_members[2:5]\n",
    "parents = family_members[5:]\n",
    "print(parents)\n",
    "print(sisters)\n",
    "print(brothers)"
   ]
  },
  {
   "cell_type": "code",
   "execution_count": 10,
   "metadata": {},
   "outputs": [
    {
     "name": "stdout",
     "output_type": "stream",
     "text": [
      "('Orange', 'Apple', 'Grape', 'cabbage', 'Spinach', 'lettuce', 'Meat', 'Fish', 'Egg')\n"
     ]
    }
   ],
   "source": [
    "#Create fruits, vegetables and animal products tuples. Join the three tuples and assign it to a variable called food_stuff_tp.\n",
    "fruits = ('Orange', 'Apple', 'Grape')\n",
    "vegetables = ('cabbage', 'Spinach', 'lettuce')\n",
    "animal_products = ('Meat', 'Fish', 'Egg')\n",
    "food_stuff_tp = fruits + vegetables + animal_products\n",
    "print(food_stuff_tp)"
   ]
  },
  {
   "cell_type": "code",
   "execution_count": 11,
   "metadata": {},
   "outputs": [
    {
     "name": "stdout",
     "output_type": "stream",
     "text": [
      "['Orange', 'Apple', 'Grape', 'cabbage', 'Spinach', 'lettuce', 'Meat', 'Fish', 'Egg']\n"
     ]
    }
   ],
   "source": [
    "#Change food_stuff_tp tuple to food_stuff_lt \n",
    "food_stuff_lt = list(food_stuff_tp)\n",
    "print(food_stuff_lt)"
   ]
  },
  {
   "cell_type": "code",
   "execution_count": 12,
   "metadata": {},
   "outputs": [
    {
     "name": "stdout",
     "output_type": "stream",
     "text": [
      "['Spinach']\n"
     ]
    }
   ],
   "source": [
    "#Slice out the middle item or items from food_stuff_lt list.\n",
    "food_stuff_lt = ['Orange', 'Apple', 'Grape', 'cabbage', 'Spinach', 'lettuce', 'Meat', 'Fish', 'Egg']\n",
    "middle = len(food_stuff_lt) // 2\n",
    "middle_item = food_stuff_lt[middle:middle+1]\n",
    "print(middle_item)"
   ]
  },
  {
   "cell_type": "code",
   "execution_count": 13,
   "metadata": {},
   "outputs": [
    {
     "name": "stdout",
     "output_type": "stream",
     "text": [
      "['Orange', 'Apple', 'Grape', 'Meat', 'Fish', 'Egg']\n"
     ]
    }
   ],
   "source": [
    "#Slice out the first three items and the last three items from food_stuff_lt list\n",
    "sliced_lt = food_stuff_lt[:3] + food_stuff_lt[-3:]\n",
    "print(sliced_lt)"
   ]
  },
  {
   "cell_type": "code",
   "execution_count": 14,
   "metadata": {},
   "outputs": [],
   "source": [
    "#Delete the food_stuff_tp tuple completely\n",
    "del food_stuff_tp"
   ]
  },
  {
   "cell_type": "code",
   "execution_count": 15,
   "metadata": {},
   "outputs": [
    {
     "name": "stdout",
     "output_type": "stream",
     "text": [
      "('Denmark', 'Finland', 'Iceland', 'Norway', 'Sweden')\n"
     ]
    }
   ],
   "source": [
    "#Check if an item exists in tuple:\n",
    "nordic_countries = ('Denmark', 'Finland','Iceland', 'Norway', 'Sweden')\n",
    "print(nordic_countries)"
   ]
  },
  {
   "cell_type": "code",
   "execution_count": 16,
   "metadata": {},
   "outputs": [
    {
     "data": {
      "text/plain": [
       "False"
      ]
     },
     "execution_count": 16,
     "metadata": {},
     "output_type": "execute_result"
    }
   ],
   "source": [
    "#Check if 'Estonia' is a nordic country\n",
    "'Estonia' in nordic_countries"
   ]
  },
  {
   "cell_type": "code",
   "execution_count": 17,
   "metadata": {},
   "outputs": [
    {
     "data": {
      "text/plain": [
       "True"
      ]
     },
     "execution_count": 17,
     "metadata": {},
     "output_type": "execute_result"
    }
   ],
   "source": [
    "#Check if 'Iceland' is a nordic country\n",
    "'Iceland' in nordic_countries"
   ]
  }
 ],
 "metadata": {
  "kernelspec": {
   "display_name": ".venv",
   "language": "python",
   "name": "python3"
  },
  "language_info": {
   "codemirror_mode": {
    "name": "ipython",
    "version": 3
   },
   "file_extension": ".py",
   "mimetype": "text/x-python",
   "name": "python",
   "nbconvert_exporter": "python",
   "pygments_lexer": "ipython3",
   "version": "3.11.3"
  }
 },
 "nbformat": 4,
 "nbformat_minor": 2
}
