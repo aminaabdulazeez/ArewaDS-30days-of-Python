{
 "cells": [
  {
   "cell_type": "markdown",
   "metadata": {},
   "source": [
    "# Day 3 Assignment"
   ]
  },
  {
   "cell_type": "markdown",
   "metadata": {},
   "source": [
    "## Excercise"
   ]
  },
  {
   "cell_type": "code",
   "execution_count": 3,
   "metadata": {},
   "outputs": [
    {
     "name": "stdout",
     "output_type": "stream",
     "text": [
      "30\n",
      "<class 'int'>\n"
     ]
    }
   ],
   "source": [
    "# Declare your as an integer variable\n",
    "age =30\n",
    "print(age)\n",
    "print(type(age))"
   ]
  },
  {
   "cell_type": "code",
   "execution_count": 4,
   "metadata": {},
   "outputs": [
    {
     "name": "stdout",
     "output_type": "stream",
     "text": [
      "155.0\n"
     ]
    }
   ],
   "source": [
    "#Declare your height as a float variable\n",
    "height =155.0\n",
    "print(height)\n",
    "\n"
   ]
  },
  {
   "cell_type": "code",
   "execution_count": 5,
   "metadata": {},
   "outputs": [
    {
     "name": "stdout",
     "output_type": "stream",
     "text": [
      "(3+5j)\n"
     ]
    }
   ],
   "source": [
    "#Declare a variable tha stores a complex number\n",
    "complex_num = 3 + 5j\n",
    "print(complex_num)"
   ]
  },
  {
   "cell_type": "code",
   "execution_count": 3,
   "metadata": {},
   "outputs": [
    {
     "name": "stdout",
     "output_type": "stream",
     "text": [
      "The area of the triangle is 100.0\n"
     ]
    }
   ],
   "source": [
    "#caculate the area of a triangle prompt the user to enter base and height\n",
    "base= int(input(\"Enter base: \"))\n",
    "height= int(input(\"Enter height: \"))\n",
    "area = 0.5*base*height\n",
    "print(\"The area of the triangle is\",area)"
   ]
  },
  {
   "cell_type": "code",
   "execution_count": 6,
   "metadata": {},
   "outputs": [
    {
     "name": "stdout",
     "output_type": "stream",
     "text": [
      "The perimeter of the triangle is 12\n"
     ]
    }
   ],
   "source": [
    "#caculate the perimeter of a triangle prompt the user to enter side a,b and c \n",
    "a = int(input(\"Enter side a: \"))\n",
    "b= int(input(\"Enter side b: \"))\n",
    "c= int(input(\"Enter side c: \"))\n",
    "perimeter = a + b + c\n",
    "print(\"The perimeter of the triangle is\",perimeter)"
   ]
  },
  {
   "cell_type": "code",
   "execution_count": 7,
   "metadata": {},
   "outputs": [
    {
     "name": "stdout",
     "output_type": "stream",
     "text": [
      "The area of the rectangle is 200.0\n",
      "The perimeter of the rectangle is 60.0\n"
     ]
    }
   ],
   "source": [
    "# area and perimeter of a rectangle\n",
    "length = float(input(\"Enter lenght: \"))\n",
    "width= float(input(\"Enter width: \"))\n",
    "area= length * width\n",
    "perimeter= 2*(length + width)\n",
    "print(\"The area of the rectangle is\",area)\n",
    "print(\"The perimeter of the rectangle is\",perimeter)\n"
   ]
  },
  {
   "cell_type": "code",
   "execution_count": 8,
   "metadata": {},
   "outputs": [
    {
     "name": "stdout",
     "output_type": "stream",
     "text": [
      "The area of the circle is 314.0\n",
      "The circumference of the circle is 62.800000000000004\n"
     ]
    }
   ],
   "source": [
    "# calculate area and circumference of a circle\n",
    "pi=3.14\n",
    "r= float(input(\"Enter radius:\"))\n",
    "area= pi* r * r\n",
    "circumference=2*pi*r\n",
    "print(\"The area of the circle is\",area)\n",
    "print(\"The circumference of the circle is\",circumference)\n",
    "\n",
    "\n"
   ]
  },
  {
   "cell_type": "code",
   "execution_count": 10,
   "metadata": {},
   "outputs": [
    {
     "name": "stdout",
     "output_type": "stream",
     "text": [
      "Slope : 2\n",
      "Y-intercept : -2\n",
      "X-intercept: -1.0\n"
     ]
    }
   ],
   "source": [
    "#Calculate the slope, x-intercept and y-intercept of y = 2x -2\n",
    "eqn = \"y = 2x - 2\"\n",
    "m = 2\n",
    "y_intercept = -2\n",
    "x_intercept = y_intercept / m\n",
    "print(\"Slope :\", m)\n",
    "print(\"Y-intercept :\", y_intercept)\n",
    "print(\"X-intercept:\", x_intercept)"
   ]
  },
  {
   "cell_type": "code",
   "execution_count": 12,
   "metadata": {},
   "outputs": [
    {
     "name": "stdout",
     "output_type": "stream",
     "text": [
      "Slope: 2.0\n",
      "Euclidean distance: 8.94427190999916\n"
     ]
    }
   ],
   "source": [
    "# Find the slope and Euclidean distance between point (2, 2) and point (6,10)\n",
    "#Slope is (m = y2-y1/x2-x1).\n",
    "point1 = (2, 2)\n",
    "point2 = (6, 10)\n",
    "m = (point2[1] - point1[1]) / (point2[0] - point1[0])\n",
    "distance = ((point2[0] - point1[0])**2 + (point2[1] - point1[1])**2)**0.5\n",
    "\n",
    "print(\"Slope:\", m)\n",
    "print(\"Euclidean distance:\", distance)"
   ]
  },
  {
   "cell_type": "code",
   "execution_count": 1,
   "metadata": {},
   "outputs": [
    {
     "name": "stdout",
     "output_type": "stream",
     "text": [
      "The slopes are equal.\n"
     ]
    }
   ],
   "source": [
    "#Comparing the slopes in tasks 8 and 9.\n",
    "#Slope in task 8\n",
    "m1 = 2\n",
    "#Slope in task 9\n",
    "point1 = (2, 2)\n",
    "point2 = (6, 10)\n",
    "m2 = (point2[1] - point1[1]) / (point2[0] - point1[0])\n",
    "#Comparing slopes\n",
    "if m1 == m2:\n",
    "    print(\"The slopes are equal.\")\n",
    "else:\n",
    "    print(\"The slopes are not equal.\")"
   ]
  },
  {
   "cell_type": "code",
   "execution_count": 3,
   "metadata": {},
   "outputs": [
    {
     "name": "stdout",
     "output_type": "stream",
     "text": [
      "x: -4 y: 1\n",
      "x: -3 y: 0\n",
      "the value of X when y is 0 is ) : -3\n",
      "x: -2 y: 1\n",
      "x: -1 y: 4\n",
      "x: 0 y: 9\n",
      "x: 1 y: 16\n",
      "x: 2 y: 25\n",
      "x: 3 y: 36\n"
     ]
    }
   ],
   "source": [
    "#Calculate the value of y (y = x^2 + 6x + 9) using different x values to figure out at what x value y is going to be 0.\n",
    "def calculate_y(x):\n",
    "  y = x**2 + 6*x + 9\n",
    "  return y\n",
    "\n",
    "x_values = range(-4, 4)\n",
    "\n",
    "for x in x_values:\n",
    "  y = calculate_y(x)\n",
    "  print(\"x:\", x, \"y:\", y)\n",
    "\n",
    "  if y == 0:\n",
    "    print(\"the value of X when y is 0 is ) :\", x)"
   ]
  },
  {
   "cell_type": "code",
   "execution_count": 5,
   "metadata": {},
   "outputs": [
    {
     "name": "stdout",
     "output_type": "stream",
     "text": [
      " The length of 'python'is 6\n",
      " The length of 'dragon'is 6\n",
      "False\n"
     ]
    }
   ],
   "source": [
    "#Finding the length of 'python' and 'dragon' and a falsy comparison statement.\n",
    "len_python = len('python')\n",
    "print(\" The length of 'python'is\", len_python)\n",
    "\n",
    "len_dragon = len('dragon')\n",
    "print(\" The length of 'dragon'is\", len_dragon)\n",
    "\n",
    "print('python' <= 'dragon')"
   ]
  },
  {
   "cell_type": "code",
   "execution_count": 7,
   "metadata": {},
   "outputs": [
    {
     "name": "stdout",
     "output_type": "stream",
     "text": [
      "True\n"
     ]
    }
   ],
   "source": [
    "#Use and operator to check if 'on' is found in 'python' and 'dragon'\n",
    "check_on = 'on' in 'python' and 'on' in 'dragon'\n",
    "print(check_on)"
   ]
  },
  {
   "cell_type": "code",
   "execution_count": 8,
   "metadata": {},
   "outputs": [
    {
     "name": "stdout",
     "output_type": "stream",
     "text": [
      "Jargon is in the sentence.\n"
     ]
    }
   ],
   "source": [
    "#Using in operator to check if 'jargon\" is in the sentence.\n",
    "sentence = \"I hope this course is not full of jargon.\"\n",
    "jargon = \"jargon\"\n",
    "\n",
    "if jargon in sentence:\n",
    "  print(\"Jargon is in the sentence.\")\n",
    "else:\n",
    "  print(\"Jargon is not in the sentence.\")"
   ]
  },
  {
   "cell_type": "code",
   "execution_count": 9,
   "metadata": {},
   "outputs": [
    {
     "name": "stdout",
     "output_type": "stream",
     "text": [
      "False\n"
     ]
    }
   ],
   "source": [
    "# to check if there is no 'on' in dragon and python\n",
    "check_on = 'on' in 'python' and 'on' in 'dragon'\n",
    "\n",
    "print(not check_on)"
   ]
  },
  {
   "cell_type": "code",
   "execution_count": 10,
   "metadata": {},
   "outputs": [
    {
     "name": "stdout",
     "output_type": "stream",
     "text": [
      "Length of 'python': 6\n",
      "Length of 'python' as float: 6.0\n",
      "Length of 'python' as string: 6.0\n"
     ]
    }
   ],
   "source": [
    "#Find the length of the text python,convert the value to float then to string\n",
    "len_python = len('python')\n",
    "to_float = float(len_python)\n",
    "to_string = str(to_float)\n",
    "\n",
    "print(\"Length of 'python':\", len_python)\n",
    "print(\"Length of 'python' as float:\", to_float)\n",
    "print(\"Length of 'python' as string:\", to_string)"
   ]
  },
  {
   "cell_type": "code",
   "execution_count": 12,
   "metadata": {},
   "outputs": [
    {
     "name": "stdout",
     "output_type": "stream",
     "text": [
      "8 is an even number.\n"
     ]
    }
   ],
   "source": [
    "# check if a number is even or not \n",
    "number = int(input(\"Enter a number: \"))\n",
    "\n",
    "if number % 2 == 0:\n",
    "  print(number, \"is an even number.\")\n",
    "else:\n",
    "  print(number, \"is not an even number.\")"
   ]
  },
  {
   "cell_type": "code",
   "execution_count": 14,
   "metadata": {},
   "outputs": [
    {
     "name": "stdout",
     "output_type": "stream",
     "text": [
      "The floor division of 7 by 3 is equal to the int converted value of 2.7\n"
     ]
    }
   ],
   "source": [
    "#check if the floor division of 7 by 3 is equal to the int converted value of 2.7\n",
    "floor_division = 7 // 3\n",
    "int_convert = int(2.7)\n",
    "\n",
    "if floor_division == int_convert:\n",
    "  print(\"The floor division of 7 by 3 is equal to the int converted value of 2.7\")\n",
    "else:\n",
    "  print(\"The floor division of 7 by 3 is not equal to the int converted value of 2.7\")"
   ]
  },
  {
   "cell_type": "code",
   "execution_count": 15,
   "metadata": {},
   "outputs": [
    {
     "name": "stdout",
     "output_type": "stream",
     "text": [
      "The type of '10' is not equal to the type of 10.\n"
     ]
    }
   ],
   "source": [
    "#Check if type of '10' is equal to type of 10\n",
    "str_10 = type('10')\n",
    "int_10 = type(10)\n",
    "\n",
    "if str_10 == int_10:\n",
    "    print(\"The type of '10' is equal to the type of 10.\")\n",
    "else:\n",
    "    print(\"The type of '10' is not equal to the type of 10.\")"
   ]
  },
  {
   "cell_type": "code",
   "execution_count": 16,
   "metadata": {},
   "outputs": [
    {
     "name": "stdout",
     "output_type": "stream",
     "text": [
      "int('9.8') is not equal to 10.\n"
     ]
    }
   ],
   "source": [
    "#Check if int('9.8') is equal to 10\n",
    "a = ('9.8')\n",
    "b = 10\n",
    "if a == b:\n",
    "    print(\"int('9.8') is equal to 10.\")\n",
    "else:\n",
    "    print(\"int('9.8') is not equal to 10.\")"
   ]
  },
  {
   "cell_type": "code",
   "execution_count": 18,
   "metadata": {},
   "outputs": [
    {
     "name": "stdout",
     "output_type": "stream",
     "text": [
      "Your weekly earning is: 1120.0\n"
     ]
    }
   ],
   "source": [
    "# Calculate pay of the person by entering hours and rate per hour\n",
    "hours = float(input(\"Enter hours: \"))\n",
    "rate_per_hour = float(input(\"Enter rate per hour: \"))\n",
    "\n",
    "pay = hours * rate_per_hour\n",
    "print(\"Your weekly earning is:\", pay)"
   ]
  },
  {
   "cell_type": "code",
   "execution_count": 20,
   "metadata": {},
   "outputs": [
    {
     "name": "stdout",
     "output_type": "stream",
     "text": [
      "You have lived for 3153600000.0 seconds\n"
     ]
    }
   ],
   "source": [
    "#Calculate the number of seconds a person can live assuming a person can live 100years\n",
    "years = float(input(\"Enter number of years you have lived: \"))\n",
    "seconds_in_a_year = 365 * 24 * 60 * 60\n",
    "total_seconds = years * seconds_in_a_year\n",
    "\n",
    "print(\"You have lived for\", total_seconds, \"seconds\")"
   ]
  },
  {
   "cell_type": "code",
   "execution_count": 23,
   "metadata": {},
   "outputs": [
    {
     "name": "stdout",
     "output_type": "stream",
     "text": [
      " 1  1  1  1  1 \n",
      " 2  1  2  4  8 \n",
      " 3  1  3  9  27 \n",
      " 4  1  4  16  64 \n",
      " 5  1  5  25  125 \n"
     ]
    }
   ],
   "source": [
    "#A Python script that displays a table\n",
    "print(\" 1  1  1  1  1 \")\n",
    "print(\" 2  1  2  4  8 \")\n",
    "print(\" 3  1  3  9  27 \")\n",
    "print(\" 4  1  4  16  64 \")\n",
    "print(\" 5  1  5  25  125 \")\n"
   ]
  }
 ],
 "metadata": {
  "kernelspec": {
   "display_name": ".venv",
   "language": "python",
   "name": "python3"
  },
  "language_info": {
   "codemirror_mode": {
    "name": "ipython",
    "version": 3
   },
   "file_extension": ".py",
   "mimetype": "text/x-python",
   "name": "python",
   "nbconvert_exporter": "python",
   "pygments_lexer": "ipython3",
   "version": "3.11.3"
  }
 },
 "nbformat": 4,
 "nbformat_minor": 2
}
