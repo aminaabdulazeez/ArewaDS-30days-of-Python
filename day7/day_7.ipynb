{
 "cells": [
  {
   "cell_type": "markdown",
   "metadata": {},
   "source": [
    "# Day 7 Assignment"
   ]
  },
  {
   "cell_type": "markdown",
   "metadata": {},
   "source": [
    "## Excercise:Level1"
   ]
  },
  {
   "cell_type": "code",
   "execution_count": 3,
   "metadata": {},
   "outputs": [
    {
     "name": "stdout",
     "output_type": "stream",
     "text": [
      "7\n"
     ]
    }
   ],
   "source": [
    "#Find the length of the set it_companies\n",
    "it_companies = {'Facebook', 'IBM', 'Whatsapp', 'Apple', 'Google', 'Oracle', 'Amazon'}\n",
    "print(len(it_companies))"
   ]
  },
  {
   "cell_type": "code",
   "execution_count": 4,
   "metadata": {},
   "outputs": [
    {
     "name": "stdout",
     "output_type": "stream",
     "text": [
      "{'Amazon', 'Facebook', 'Whatsapp', 'Twitter', 'Apple', 'IBM', 'Oracle', 'Google'}\n"
     ]
    }
   ],
   "source": [
    "#Add 'Twitter' to it_companies\n",
    "it_companies.add('Twitter')\n",
    "print(it_companies)"
   ]
  },
  {
   "cell_type": "code",
   "execution_count": 5,
   "metadata": {},
   "outputs": [
    {
     "name": "stdout",
     "output_type": "stream",
     "text": [
      "{'Intstagram', 'Amazon', 'Whatsapp', 'Google', 'IBM', 'Oracle', 'Facebook', 'Twitter', 'Apple', 'TikTok', 'M icrosoft'}\n"
     ]
    }
   ],
   "source": [
    "#Insert multiple IT companies at once to the set it_companies\n",
    "it_companies.update(['M icrosoft', 'Intstagram', 'TikTok'])\n",
    "print(it_companies)"
   ]
  },
  {
   "cell_type": "code",
   "execution_count": 6,
   "metadata": {},
   "outputs": [
    {
     "name": "stdout",
     "output_type": "stream",
     "text": [
      "{'Amazon', 'Whatsapp', 'Google', 'IBM', 'Oracle', 'Facebook', 'Twitter', 'Apple', 'TikTok', 'M icrosoft'}\n"
     ]
    }
   ],
   "source": [
    "#Remove one of the companies from the set it_companies\n",
    "it_companies.pop()\n",
    "print(it_companies)"
   ]
  },
  {
   "cell_type": "code",
   "execution_count": 9,
   "metadata": {},
   "outputs": [
    {
     "ename": "KeyError",
     "evalue": "'Telegram'",
     "output_type": "error",
     "traceback": [
      "\u001b[1;31m---------------------------------------------------------------------------\u001b[0m",
      "\u001b[1;31mKeyError\u001b[0m                                  Traceback (most recent call last)",
      "\u001b[1;32mc:\\Users\\ABUBAKAR\\Desktop\\ArewaDS\\ArewaDS-30days-of-Python\\day7\\day_7.ipynb Cell 8\u001b[0m line \u001b[0;36m2\n\u001b[0;32m      <a href='vscode-notebook-cell:/c%3A/Users/ABUBAKAR/Desktop/ArewaDS/ArewaDS-30days-of-Python/day7/day_7.ipynb#X12sZmlsZQ%3D%3D?line=0'>1</a>\u001b[0m \u001b[39m#The remove() method will raise an error if the element is not present in the set\u001b[39;00m\n\u001b[1;32m----> <a href='vscode-notebook-cell:/c%3A/Users/ABUBAKAR/Desktop/ArewaDS/ArewaDS-30days-of-Python/day7/day_7.ipynb#X12sZmlsZQ%3D%3D?line=1'>2</a>\u001b[0m it_companies\u001b[39m.\u001b[39;49mremove(\u001b[39m'\u001b[39;49m\u001b[39mTelegram\u001b[39;49m\u001b[39m'\u001b[39;49m)\n\u001b[0;32m      <a href='vscode-notebook-cell:/c%3A/Users/ABUBAKAR/Desktop/ArewaDS/ArewaDS-30days-of-Python/day7/day_7.ipynb#X12sZmlsZQ%3D%3D?line=2'>3</a>\u001b[0m \u001b[39mprint\u001b[39m(it_companies)\n",
      "\u001b[1;31mKeyError\u001b[0m: 'Telegram'"
     ]
    }
   ],
   "source": [
    "#The remove() method will raise an error if the element is not present in the set\n",
    "it_companies.remove('Telegram')\n",
    "print(it_companies)"
   ]
  },
  {
   "cell_type": "code",
   "execution_count": 10,
   "metadata": {},
   "outputs": [
    {
     "name": "stdout",
     "output_type": "stream",
     "text": [
      "{'Amazon', 'Whatsapp', 'Google', 'Oracle', 'Facebook', 'Twitter', 'Apple', 'TikTok', 'M icrosoft'}\n"
     ]
    }
   ],
   "source": [
    "#the discard() method will not raise an error in such a case\n",
    "it_companies.discard('Telegram')\n",
    "print(it_companies)"
   ]
  },
  {
   "cell_type": "markdown",
   "metadata": {},
   "source": [
    "## Excercise: Level2"
   ]
  },
  {
   "cell_type": "code",
   "execution_count": 11,
   "metadata": {},
   "outputs": [
    {
     "name": "stdout",
     "output_type": "stream",
     "text": [
      "{15, 20, 21, 22, 24, 26, 28, 29}\n"
     ]
    }
   ],
   "source": [
    "#Join A and B\n",
    "A = {15, 21, 22, 20, 24, 26}\n",
    "B = {15, 21, 20, 24, 26, 24, 28, 29}\n",
    "C = A.union(B)\n",
    "print(C)"
   ]
  },
  {
   "cell_type": "code",
   "execution_count": 12,
   "metadata": {},
   "outputs": [
    {
     "data": {
      "text/plain": [
       "{15, 20, 21, 24, 26}"
      ]
     },
     "execution_count": 12,
     "metadata": {},
     "output_type": "execute_result"
    }
   ],
   "source": [
    "#Find A intersection B\n",
    "A.intersection(B)"
   ]
  },
  {
   "cell_type": "code",
   "execution_count": 13,
   "metadata": {},
   "outputs": [
    {
     "data": {
      "text/plain": [
       "False"
      ]
     },
     "execution_count": 13,
     "metadata": {},
     "output_type": "execute_result"
    }
   ],
   "source": [
    "#Is A subset of B\n",
    "A.issubset(B)"
   ]
  },
  {
   "cell_type": "code",
   "execution_count": 14,
   "metadata": {},
   "outputs": [
    {
     "data": {
      "text/plain": [
       "False"
      ]
     },
     "execution_count": 14,
     "metadata": {},
     "output_type": "execute_result"
    }
   ],
   "source": [
    "#Are A and B disjoint sets\n",
    "A.isdisjoint(B)"
   ]
  },
  {
   "cell_type": "code",
   "execution_count": 15,
   "metadata": {},
   "outputs": [
    {
     "name": "stdout",
     "output_type": "stream",
     "text": [
      "{15, 20, 21, 22, 24, 26, 28, 29}\n",
      "{15, 20, 21, 22, 24, 26, 28, 29}\n"
     ]
    }
   ],
   "source": [
    "#Join A with B and B with A\n",
    "C = A.union(B)\n",
    "D= B.union(A)\n",
    "print(C)\n",
    "print(D)"
   ]
  },
  {
   "cell_type": "code",
   "execution_count": 16,
   "metadata": {},
   "outputs": [
    {
     "data": {
      "text/plain": [
       "{22, 28, 29}"
      ]
     },
     "execution_count": 16,
     "metadata": {},
     "output_type": "execute_result"
    }
   ],
   "source": [
    "#symmetric difference between A and B\n",
    "A.symmetric_difference(B)"
   ]
  },
  {
   "cell_type": "code",
   "execution_count": 17,
   "metadata": {},
   "outputs": [],
   "source": [
    "#Delete the sets completely\n",
    "del A\n",
    "del B"
   ]
  },
  {
   "cell_type": "markdown",
   "metadata": {},
   "source": [
    "## Excercise : Level3"
   ]
  },
  {
   "cell_type": "code",
   "execution_count": 18,
   "metadata": {},
   "outputs": [
    {
     "name": "stdout",
     "output_type": "stream",
     "text": [
      "{19, 20, 22, 23, 24, 25, 26}\n",
      "Length of the list: 8\n",
      "Length of the set: 7\n",
      "List is bigger\n"
     ]
    }
   ],
   "source": [
    "#Convert the ages to a set and compare the length of the list and the set, which one is bigger?\n",
    "age = [19, 20, 24, 22, 26, 24, 25, 23]\n",
    "to_set = set(age)\n",
    "print(to_set)\n",
    "print('Length of the list:', len(age))\n",
    "print('Length of the set:', len(to_set))\n",
    "print('List is bigger')"
   ]
  },
  {
   "cell_type": "code",
   "execution_count": 19,
   "metadata": {},
   "outputs": [
    {
     "name": "stdout",
     "output_type": "stream",
     "text": [
      "Strings are immutable sequences of characters, and they can be enclosed in single quotes, double quotes, or triple quotes.\n",
      "Lists are ordered, changeable, and can contain duplicate values,They are created using square brackets [] and can store elements of any data type, including strings, integers, and other objects.\n",
      "Tuples are immutable sequences of elements, but unlike strings, they can be mixed-type sequences. Tuples are created using parentheses () and can store elements in columns of a single row.\n",
      "Sets are mutable, unordered collections of unique elements,created using the set() function or the {} syntax and can store elements of any data type.\n"
     ]
    }
   ],
   "source": [
    "#difference between string, list, tuple and set\n",
    "Strings = 'Strings are immutable sequences of characters, and they can be enclosed in single quotes, double quotes, or triple quotes.' \n",
    "print(Strings)\n",
    "Lists = 'Lists are ordered, changeable, and can contain duplicate values,They are created using square brackets [] and can store elements of any data type, including strings, integers, and other objects.'\n",
    "print(Lists)\n",
    "Tuples = 'Tuples are immutable sequences of elements, but unlike strings, they can be mixed-type sequences. Tuples are created using parentheses () and can store elements in columns of a single row.'\n",
    "print(Tuples)\n",
    "Sets = 'Sets are mutable, unordered collections of unique elements,created using the set() function or the {} syntax and can store elements of any data type.'\n",
    "print(Sets)"
   ]
  },
  {
   "cell_type": "code",
   "execution_count": 20,
   "metadata": {},
   "outputs": [
    {
     "name": "stdout",
     "output_type": "stream",
     "text": [
      "Unique words in the sentence: {'to', 'inspire', 'teach', 'people', 'a', 'and', 'am', 'love', 'teacher', 'I'}\n"
     ]
    }
   ],
   "source": [
    "#using split method to get set of unique words\n",
    "sentence = 'I am a teacher and I love to inspire and teach people'\n",
    "unique_words = set(sentence.split())\n",
    "print('Unique words in the sentence:', unique_words)"
   ]
  }
 ],
 "metadata": {
  "kernelspec": {
   "display_name": ".venv",
   "language": "python",
   "name": "python3"
  },
  "language_info": {
   "codemirror_mode": {
    "name": "ipython",
    "version": 3
   },
   "file_extension": ".py",
   "mimetype": "text/x-python",
   "name": "python",
   "nbconvert_exporter": "python",
   "pygments_lexer": "ipython3",
   "version": "3.11.3"
  }
 },
 "nbformat": 4,
 "nbformat_minor": 2
}
