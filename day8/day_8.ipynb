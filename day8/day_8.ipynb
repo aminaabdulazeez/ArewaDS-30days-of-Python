{
 "cells": [
  {
   "cell_type": "markdown",
   "metadata": {},
   "source": [
    "## Day8 Assignment"
   ]
  },
  {
   "cell_type": "markdown",
   "metadata": {},
   "source": [
    "## Excercise"
   ]
  },
  {
   "cell_type": "code",
   "execution_count": 1,
   "metadata": {},
   "outputs": [],
   "source": [
    "#Create an empty dictionary called dog\n",
    "dog = {}"
   ]
  },
  {
   "cell_type": "code",
   "execution_count": 2,
   "metadata": {},
   "outputs": [
    {
     "name": "stdout",
     "output_type": "stream",
     "text": [
      "{'name': 'doggy', 'color': 'black', 'breed': 'beagle', 'legs': 4, 'age': 2}\n"
     ]
    }
   ],
   "source": [
    "#Add name, color, breed, legs, age to the dog dictionary\n",
    "dog = {'name': 'doggy', 'color': 'black', 'breed': 'beagle', 'legs': 4, 'age':2}\n",
    "print(dog)"
   ]
  },
  {
   "cell_type": "code",
   "execution_count": 4,
   "metadata": {},
   "outputs": [
    {
     "name": "stdout",
     "output_type": "stream",
     "text": [
      "{'first_name': 'Amina', 'last_name': 'Abdulazeez', 'gender': 'Female', 'age': 29, 'marital_status': 'Married', 'skills': ['Python', 'html', 'C++'], 'country': 'Nigeria', 'city': 'Katsina', 'address': 'Saulawa'}\n"
     ]
    }
   ],
   "source": [
    "#Create a student dictionary and add first_name, last_name, gender, age, marital status, skills, country, city and address as keys for the dictionary\n",
    "student = {}\n",
    "student['first_name'] = 'Amina'\n",
    "student['last_name'] = 'Abdulazeez'\n",
    "student['gender'] = 'Female'\n",
    "student['age'] = 29\n",
    "student['marital_status'] = 'Married'\n",
    "student['skills'] = ['Python', 'html', 'C++']\n",
    "student['country'] = 'Nigeria'\n",
    "student['city'] = 'Katsina'\n",
    "student['address'] = 'Saulawa'\n",
    "print(student)\n"
   ]
  },
  {
   "cell_type": "code",
   "execution_count": 5,
   "metadata": {},
   "outputs": [
    {
     "name": "stdout",
     "output_type": "stream",
     "text": [
      "9\n"
     ]
    }
   ],
   "source": [
    "#length of the student dictionary\n",
    "print(len(student))"
   ]
  },
  {
   "cell_type": "code",
   "execution_count": 6,
   "metadata": {},
   "outputs": [
    {
     "name": "stdout",
     "output_type": "stream",
     "text": [
      "Data type: <class 'list'>\n",
      "Value: True\n"
     ]
    }
   ],
   "source": [
    "#Get the value of skills and check the data type, it should be a list\n",
    "skills_value = student['skills']\n",
    "print(f'Data type: {type(skills_value)}')\n",
    "print(f'Value: {isinstance(skills_value, list)}')"
   ]
  },
  {
   "cell_type": "code",
   "execution_count": 7,
   "metadata": {},
   "outputs": [
    {
     "name": "stdout",
     "output_type": "stream",
     "text": [
      "{'first_name': 'Amina', 'last_name': 'Abdulazeez', 'gender': 'Female', 'age': 29, 'marital_status': 'Married', 'skills': ['Python', 'html', 'C++', 'mysql'], 'country': 'Nigeria', 'city': 'Katsina', 'address': 'Saulawa'}\n"
     ]
    }
   ],
   "source": [
    "#Modify the skills values by adding one or two skills\n",
    "student['skills'].extend(['mysql'])\n",
    "print(student)"
   ]
  },
  {
   "cell_type": "code",
   "execution_count": 8,
   "metadata": {},
   "outputs": [
    {
     "name": "stdout",
     "output_type": "stream",
     "text": [
      "dict_keys(['first_name', 'last_name', 'gender', 'age', 'marital_status', 'skills', 'country', 'city', 'address'])\n"
     ]
    }
   ],
   "source": [
    "#dictionary keys as a list\n",
    "keys = student.keys()\n",
    "print(keys)"
   ]
  },
  {
   "cell_type": "code",
   "execution_count": 9,
   "metadata": {},
   "outputs": [
    {
     "name": "stdout",
     "output_type": "stream",
     "text": [
      "dict_values(['Amina', 'Abdulazeez', 'Female', 29, 'Married', ['Python', 'html', 'C++', 'mysql'], 'Nigeria', 'Katsina', 'Saulawa'])\n"
     ]
    }
   ],
   "source": [
    "#Get the dictionary values as a list\n",
    "values = student.values()\n",
    "print(values) "
   ]
  },
  {
   "cell_type": "code",
   "execution_count": 10,
   "metadata": {},
   "outputs": [
    {
     "name": "stdout",
     "output_type": "stream",
     "text": [
      "As a list of tuples: [('first_name', 'Amina'), ('last_name', 'Abdulazeez'), ('gender', 'Female'), ('age', 29), ('marital_status', 'Married'), ('skills', ['Python', 'html', 'C++', 'mysql']), ('country', 'Nigeria'), ('city', 'Katsina'), ('address', 'Saulawa')]\n"
     ]
    }
   ],
   "source": [
    "#Change the dictionary to a list of tuples using items() method\n",
    "list_tuple = student.items()\n",
    "print(f\"As a list of tuples: {list(list_tuple)}\")"
   ]
  },
  {
   "cell_type": "code",
   "execution_count": 11,
   "metadata": {},
   "outputs": [],
   "source": [
    "#Delete one of the items in the dictionary\n",
    "del student['gender'] "
   ]
  },
  {
   "cell_type": "code",
   "execution_count": 12,
   "metadata": {},
   "outputs": [],
   "source": [
    "#Delete one of the dictionaries\n",
    "del dog"
   ]
  }
 ],
 "metadata": {
  "kernelspec": {
   "display_name": ".venv",
   "language": "python",
   "name": "python3"
  },
  "language_info": {
   "codemirror_mode": {
    "name": "ipython",
    "version": 3
   },
   "file_extension": ".py",
   "mimetype": "text/x-python",
   "name": "python",
   "nbconvert_exporter": "python",
   "pygments_lexer": "ipython3",
   "version": "3.11.3"
  }
 },
 "nbformat": 4,
 "nbformat_minor": 2
}
