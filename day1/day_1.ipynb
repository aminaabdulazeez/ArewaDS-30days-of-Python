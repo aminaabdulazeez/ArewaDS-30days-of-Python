{
 "cells": [
  {
   "cell_type": "markdown",
   "metadata": {},
   "source": [
    "# Day1 Assignment"
   ]
  },
  {
   "cell_type": "markdown",
   "metadata": {},
   "source": [
    "## Exercise: Level 1"
   ]
  },
  {
   "cell_type": "code",
   "execution_count": 1,
   "metadata": {},
   "outputs": [
    {
     "name": "stdout",
     "output_type": "stream",
     "text": [
      "Python 3.11.3\n"
     ]
    }
   ],
   "source": [
    "!python --version"
   ]
  },
  {
   "cell_type": "code",
   "execution_count": 3,
   "metadata": {},
   "outputs": [
    {
     "name": "stdout",
     "output_type": "stream",
     "text": [
      "7\n",
      "-1\n",
      "12\n",
      "3\n",
      "81\n",
      "0\n"
     ]
    }
   ],
   "source": [
    "print(3 + 4)             # addition(+)\n",
    "print(3 - 4)             # subtraction(-)\n",
    "print(3 * 4)             # multiplication(*)\n",
    "print(3 % 4)             # modulo(%)\n",
    "print(3 ** 4)            # exponential(**)\n",
    "print(3 // 4)            # Floor division operator(//)\n"
   ]
  },
  {
   "cell_type": "markdown",
   "metadata": {},
   "source": [
    "## Strings"
   ]
  },
  {
   "cell_type": "code",
   "execution_count": 12,
   "metadata": {},
   "outputs": [
    {
     "data": {
      "text/plain": [
       "'I am enjoying 30 days of python'"
      ]
     },
     "execution_count": 12,
     "metadata": {},
     "output_type": "execute_result"
    }
   ],
   "source": [
    " 'Amina'\n",
    " 'Abdulazeez'\n",
    " 'Nigeria'\n",
    " 'I am enjoying 30 days of python'\n",
    "\n"
   ]
  },
  {
   "cell_type": "markdown",
   "metadata": {},
   "source": [
    "## check data type"
   ]
  },
  {
   "cell_type": "code",
   "execution_count": 13,
   "metadata": {},
   "outputs": [
    {
     "name": "stdout",
     "output_type": "stream",
     "text": [
      "<class 'int'>\n",
      "<class 'float'>\n",
      "<class 'float'>\n",
      "<class 'complex'>\n",
      "<class 'list'>\n",
      "<class 'str'>\n",
      "<class 'str'>\n",
      "<class 'str'>\n"
     ]
    }
   ],
   "source": [
    "print(type(10))          # Int\n",
    "print(type(9.8))        # Float\n",
    "print(type(3.14))        # Float\n",
    "print(type(4 - 4j))      # Complex number\n",
    "print(type(['Asabenah', 'python', 'finland']))   # List\n",
    "print(type('Amina'))  # String\n",
    "print(type('Abdulazeez'))  # String\n",
    "print(type('Nigeria'))  # String\n"
   ]
  },
  {
   "cell_type": "markdown",
   "metadata": {},
   "source": [
    "## Excercise: Level 3"
   ]
  },
  {
   "cell_type": "code",
   "execution_count": 14,
   "metadata": {},
   "outputs": [
    {
     "name": "stdout",
     "output_type": "stream",
     "text": [
      "6.324555320336759\n"
     ]
    }
   ],
   "source": [
    "# Import the math module to use the square root function.\n",
    "import math\n",
    "\n",
    "# Define the coordinates of the first point (p1) as a list.\n",
    "p1 = [4, 0]\n",
    "\n",
    "# Define the coordinates of the second point (p2) as a list.\n",
    "p2 = [6, 6]\n",
    "\n",
    "# Calculate the distance between the two points using the distance formula.\n",
    "# The formula computes the Euclidean distance in a 2D space.\n",
    "distance = math.sqrt(((p1[0] - p2[0]) ** 2) + ((p1[1] - p2[1]) ** 2))\n",
    "\n",
    "# Print the calculated distance.\n",
    "print(distance)"
   ]
  }
 ],
 "metadata": {
  "kernelspec": {
   "display_name": ".venv",
   "language": "python",
   "name": "python3"
  },
  "language_info": {
   "codemirror_mode": {
    "name": "ipython",
    "version": 3
   },
   "file_extension": ".py",
   "mimetype": "text/x-python",
   "name": "python",
   "nbconvert_exporter": "python",
   "pygments_lexer": "ipython3",
   "version": "3.11.3"
  }
 },
 "nbformat": 4,
 "nbformat_minor": 2
}
